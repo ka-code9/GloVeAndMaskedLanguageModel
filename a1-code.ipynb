{
 "cells": [
  {
   "cell_type": "markdown",
   "metadata": {
    "id": "fr75-y9A4zcM"
   },
   "source": [
    "# Programming Assignment 1: Learning Distributed Word Representations\n",
    "**Version**: 1.1\n",
    "\n",
    "**Changes by Version:** \n",
    "* (v1.1)\n",
    "  1. (Part 1) Update `calculate_log_co_occurence()` to include the count for the 4th word in the sentence for diagonal entries. Remove text on needing to add 1 as it is already done in the code\n",
    "  2. (1.5) Removed the line defining unnecessary `loss` variable\n",
    "  2. (1.5) We added a gradient checker function using finite difference called `check_GloVe_gradients()`. You can run the specified cell in the notebook to check your gradient implementation for both the symmetric and asymmetric models before moving forward. \n",
    "  3. (Part 3) Fixed error with `evaluate()` function when calling `compute_loss()`\n",
    "\n",
    "**Version Release Date**: 2022-01-30\n",
    "\n",
    "**Due Date**: Friday, Feb. 4, at 11:59pm\n",
    "\n",
    "Based on an assignment by George Dahl\n",
    "\n",
    "For CSC413/2516 in Winter 2022 with Professor Jimmy Ba and Professor Bo Wang\n",
    "\n",
    "**Submission:**\n",
    "You must submit two files through MarkUs: \n",
    "1. [ ] A PDF file containing your writeup, titled *a1-writeup.pdf*, which will be the PDF export of this notebook (i.e., by printing this notebook webpage as PDF). Your writeup must be typed. There will be sections in the notebook for you to write your responses. Make sure that the relevant outputs (e.g. `print_gradients()` outputs, plots, etc.) are included and clearly visible. \n",
    "2. [ ] This `a1-code.ipynb` iPython Notebook. \n",
    "\n",
    "The programming assignments are individual work. See the Course Syllabus for detailed policies. \n",
    "\n",
    "You should attempt all questions for this assignment. Most of them can be answered at least partially even if you were unable to finish earlier questions. If you think your computational results are incorrect, please say so; that may help you get partial credit. \n",
    "    \n",
    "The teaching assistants for this assignment are Harris Chan and Caroline Malin-Mayor. Send your email with subject \"*\\[CSC413\\] PA1*\" to mailto:csc413-2022-01-tas@cs.toronto.edu or post on Piazza with the tag `pa1`.\n",
    "    \n",
    "# Introduction\n",
    "In this assignment we will learn about word embeddings and make neural networks learn about words.\n",
    "We could try to match statistics about the words, or we could train a network that takes a sequence of words as input and learns to predict the word that comes next.\n",
    "        \n",
    "This assignment will ask you to implement a linear embedding and then the backpropagation computations for a neural language model and then run some experiments to analyze the learned representation.\n",
    "The amount of code you have to write is very short but each line will require you to think very carefully.\n",
    "You will need to derive the updates mathematically, and then implement them using matrix and vector operations in NumPy."
   ]
  },
  {
   "cell_type": "markdown",
   "metadata": {
    "id": "-UUSJPdr3Ge_"
   },
   "source": [
    "# Starter code and data\n",
    "\n",
    "First, perform the required imports for your code:\n"
   ]
  },
  {
   "cell_type": "code",
   "execution_count": 8,
   "metadata": {
    "id": "CRwuwhoJ3Knl"
   },
   "outputs": [],
   "source": [
    "import collections\n",
    "import pickle\n",
    "import numpy as np\n",
    "import os\n",
    "from tqdm import tqdm\n",
    "import pylab\n",
    "from six.moves.urllib.request import urlretrieve\n",
    "import tarfile\n",
    "import sys\n",
    "import itertools\n",
    "\n",
    "TINY = 1e-30\n",
    "EPS = 1e-4\n",
    "nax = np.newaxis"
   ]
  },
  {
   "cell_type": "markdown",
   "metadata": {
    "id": "qNLvRXdy3NDO"
   },
   "source": [
    "If you're using colaboratory, this following script creates a folder - here we used 'CSC413/A1' - in order to download and store the data. If you're not using colaboratory, then set the path to wherever you want the contents to be stored at locally.\n",
    "\n",
    "You can also manually download and unzip the data from [http://www.cs.toronto.edu/~jba/a1_data.tar.gz] and put them in the same folder as where you store this notebook. \n",
    "\n",
    "Feel free to use a different way to access the files *data.pk* , *partially_trained.pk*, and *raw_sentences.txt*. \n",
    "\n",
    "The file *raw_sentences.txt* contains the sentences that we will be using for this assignment.\n",
    "These sentences are fairly simple ones and cover a vocabulary of only 250 words (+ 1 special `[MASK]` token word).\n",
    "\n",
    "\n",
    "\n"
   ]
  },
  {
   "cell_type": "code",
   "execution_count": 9,
   "metadata": {
    "colab": {
     "base_uri": "https://localhost:8080/"
    },
    "id": "Gkug8am63SzY",
    "outputId": "368f9fdb-bd5e-420b-899c-14ce39474f55"
   },
   "outputs": [
    {
     "name": "stdout",
     "output_type": "stream",
     "text": [
      "/Users/kieranagterberg/Desktop/CSC413/A1\n"
     ]
    }
   ],
   "source": [
    "######################################################################\n",
    "# Setup working directory\n",
    "######################################################################\n",
    "# Change this to a local path if running locally\n",
    "%mkdir -p /Users/kieranagterberg/Desktop/CSC413/A1\n",
    "%cd /Users/kieranagterberg/Desktop/CSC413/A1\n",
    "\n",
    "######################################################################\n",
    "# Helper functions for loading data\n",
    "######################################################################\n",
    "# adapted from \n",
    "# https://github.com/fchollet/keras/blob/master/keras/datasets/cifar10.py\n",
    "\n",
    "def get_file(fname,\n",
    "             origin,\n",
    "             untar=False,\n",
    "             extract=False,\n",
    "             archive_format='auto',\n",
    "             cache_dir='data'):\n",
    "    datadir = os.path.join(cache_dir)\n",
    "    if not os.path.exists(datadir):\n",
    "        os.makedirs(datadir)\n",
    "\n",
    "    if untar:\n",
    "        untar_fpath = os.path.join(datadir, fname)\n",
    "        fpath = untar_fpath + '.tar.gz'\n",
    "    else:\n",
    "        fpath = os.path.join(datadir, fname)\n",
    "    \n",
    "    print('File path: %s' % fpath)\n",
    "    if not os.path.exists(fpath):\n",
    "        print('Downloading data from', origin)\n",
    "\n",
    "        error_msg = 'URL fetch failure on {}: {} -- {}'\n",
    "        try:\n",
    "            try:\n",
    "                urlretrieve(origin, fpath)\n",
    "            except URLError as e:\n",
    "                raise Exception(error_msg.format(origin, e.errno, e.reason))\n",
    "            except HTTPError as e:\n",
    "                raise Exception(error_msg.format(origin, e.code, e.msg))\n",
    "        except (Exception, KeyboardInterrupt) as e:\n",
    "            if os.path.exists(fpath):\n",
    "                os.remove(fpath)\n",
    "            raise\n",
    "\n",
    "    if untar:\n",
    "        if not os.path.exists(untar_fpath):\n",
    "            print('Extracting file.')\n",
    "            with tarfile.open(fpath) as archive:\n",
    "                archive.extractall(datadir)\n",
    "        return untar_fpath\n",
    "\n",
    "    if extract:\n",
    "        _extract_archive(fpath, datadir, archive_format)\n",
    "\n",
    "    return fpath"
   ]
  },
  {
   "cell_type": "code",
   "execution_count": 10,
   "metadata": {
    "colab": {
     "base_uri": "https://localhost:8080/"
    },
    "id": "KUQjRpWqnkzk",
    "outputId": "83d8ee50-0c5b-4c5e-a07e-e4ba48272a33"
   },
   "outputs": [
    {
     "name": "stdout",
     "output_type": "stream",
     "text": [
      "File path: data/a1_data.tar.gz\n",
      "Downloading data from http://www.cs.toronto.edu/~jba/a1_data.tar.gz\n",
      "Extracting file.\n"
     ]
    }
   ],
   "source": [
    "# Download the dataset and partially pre-trained model\n",
    "get_file(fname='a1_data', \n",
    "                         origin='http://www.cs.toronto.edu/~jba/a1_data.tar.gz', \n",
    "                         untar=True)\n",
    "drive_location = 'data'\n",
    "PARTIALLY_TRAINED_MODEL = drive_location + '/' + 'partially_trained.pk'\n",
    "data_location = drive_location + '/' + 'data.pk'"
   ]
  },
  {
   "cell_type": "markdown",
   "metadata": {
    "id": "Qna9z_wJ3U5e"
   },
   "source": [
    "We have already extracted the 4-grams from this dataset and divided them into training, validation, and test sets.\n",
    "To inspect this data, run the following:"
   ]
  },
  {
   "cell_type": "code",
   "execution_count": 11,
   "metadata": {
    "colab": {
     "base_uri": "https://localhost:8080/"
    },
    "id": "RD1LN16d3a0u",
    "outputId": "244a65e9-91d5-48a6-ac05-39e92859b126"
   },
   "outputs": [
    {
     "name": "stdout",
     "output_type": "stream",
     "text": [
      "[MASK]\n",
      "all\n",
      "251\n",
      "['[MASK]', 'all', 'set', 'just', 'show', 'being', 'money', 'over', 'both', 'years', 'four', 'through', 'during', 'go', 'still', 'children', 'before', 'police', 'office', 'million', 'also', 'less', 'had', ',', 'including', 'should', 'to', 'only', 'going', 'under', 'has', 'might', 'do', 'them', 'good', 'around', 'get', 'very', 'big', 'dr.', 'game', 'every', 'know', 'they', 'not', 'world', 'now', 'him', 'school', 'several', 'like', 'did', 'university', 'companies', 'these', 'she', 'team', 'found', 'where', 'right', 'says', 'people', 'house', 'national', 'some', 'back', 'see', 'street', 'are', 'year', 'home', 'best', 'out', 'even', 'what', 'said', 'for', 'federal', 'since', 'its', 'may', 'state', 'does', 'john', 'between', 'new', ';', 'three', 'public', '?', 'be', 'we', 'after', 'business', 'never', 'use', 'here', 'york', 'members', 'percent', 'put', 'group', 'come', 'by', '$', 'on', 'about', 'last', 'her', 'of', 'could', 'days', 'against', 'times', 'women', 'place', 'think', 'first', 'among', 'own', 'family', 'into', 'each', 'one', 'down', 'because', 'long', 'another', 'such', 'old', 'next', 'your', 'market', 'second', 'city', 'little', 'from', 'would', 'few', 'west', 'there', 'political', 'two', 'been', '.', 'their', 'much', 'music', 'too', 'way', 'white', ':', 'was', 'war', 'today', 'more', 'ago', 'life', 'that', 'season', 'company', '-', 'but', 'part', 'court', 'former', 'general', 'with', 'than', 'those', 'he', 'me', 'high', 'made', 'this', 'work', 'up', 'us', 'until', 'will', 'ms.', 'while', 'officials', 'can', 'were', 'country', 'my', 'called', 'and', 'program', 'have', 'then', 'is', 'it', 'an', 'states', 'case', 'say', 'his', 'at', 'want', 'in', 'any', 'as', 'if', 'united', 'end', 'no', ')', 'make', 'government', 'when', 'american', 'same', 'how', 'mr.', 'other', 'take', 'which', 'department', '--', 'you', 'many', 'nt', 'day', 'week', 'play', 'used', \"'s\", 'though', 'our', 'who', 'yesterday', 'director', 'most', 'president', 'law', 'man', 'a', 'night', 'off', 'center', 'i', 'well', 'or', 'without', 'so', 'time', 'five', 'the', 'left']\n",
      "[[ 28  26  90 144]\n",
      " [184  44 249 117]\n",
      " [183  32  76 122]\n",
      " [117 247 201 186]\n",
      " [223 190 249   6]\n",
      " [ 42  74  26  32]\n",
      " [242  32 223  32]\n",
      " [223  32 158 144]\n",
      " [ 74  32 221  32]\n",
      " [ 42 192  91  68]]\n"
     ]
    }
   ],
   "source": [
    "data = pickle.load(open(data_location, 'rb'))\n",
    "print(data['vocab'][0]) # First word in vocab is [MASK] \n",
    "print(data['vocab'][1]) \n",
    "print(len(data['vocab'])) # Number of words in vocab\n",
    "print(data['vocab']) # All the words in vocab\n",
    "print(data['train_inputs'][:10]) # 10 example training instances"
   ]
  },
  {
   "cell_type": "markdown",
   "metadata": {
    "id": "lXd2Msqs3fPQ"
   },
   "source": [
    "Now `data` is a Python dict which contains the vocabulary, as well as the inputs and targets for all three splits of the data. `data['vocab']` is a list of the 251 words in the dictionary; `data['vocab'][0]` is the word with index 0, and so on. `data['train_inputs']` is a 372,500 x 4 matrix where each row gives the indices of the 4 consecutive context words for one of the 372,500 training cases.\n",
    "The validation and test sets are handled analogously.\n",
    "\n",
    "Even though you only have to modify two specific locations in the code, you may want to read through this code before starting the assignment. "
   ]
  },
  {
   "cell_type": "markdown",
   "metadata": {
    "id": "pa9ggqxJPPs0"
   },
   "source": [
    "# Part 1: GloVe Word Representations (3pts)\n",
    "\n",
    "In this section we will be implementing a simplified version of [GloVe](https://nlp.stanford.edu/pubs/glove.pdf).\n",
    "Given a corpus with $V$ distinct words, we define the co-occurrence matrix $X\\in \\mathbb{N}^{V\\times V}$ with entries $X_{ij}$ representing the frequency of the $i$-th word and $j$-th word in the corpus appearing in the same *context* - in our case the adjacent words. The co-occurrence matrix can be *symmetric* (i.e., $X_{ij} = X_{ji}$) if the order of the words do not matter, or *asymmetric* (i.e., $X_{ij} \\neq X_{ji}$) if we wish to distinguish the counts for when $i$-th word appears before $j$-th word. \n",
    "GloVe aims to find a $d$-dimensional embedding of the words that preserves properties of the co-occurrence matrix by representing the $i$-th word with two $d$-dimensional vectors $\\mathbf{w}_i,\\tilde{\\mathbf{w}}_i \\in\\mathbb{R}^d$, as well as two scalar biases $b_i, \\tilde{b}_i\\in\\mathbb{R}$. Typically we have the dimension of the embedding $d$ much smaller than the number of words $V$. This objective can be written as:\n",
    "\n",
    "$$L(\\{\\mathbf{w}_i,\\tilde{\\mathbf{w}}_i,b_i, \\tilde{b}_i\\}_{i=1}^V) = \\sum_{i,j=1}^V (\\mathbf{w}_i^\\top\\tilde{\\mathbf{w}}_j + b_i + \\tilde{b}_j - \\log X_{ij})^2$$\n",
    "\n",
    "Note that each word is represented by two $d$-dimensional embedding vectors $\\mathbf{w}_i, \\tilde{\\mathbf{w}}_i$ and two scalar biases $b_i, \\tilde{b}_i$.  When the bias terms are omitted and we tie the two embedding vectors $\\mathbf{w}_i =\\tilde{\\mathbf{w}}_i$, then GloVe corresponds to finding a rank-$d$ symmetric factorization of the co-occurrence matrix.\n",
    "\n"
   ]
  },
  {
   "cell_type": "markdown",
   "metadata": {
    "id": "Xo1R6rfP4aJQ"
   },
   "source": [
    "Answer the following questions:\n",
    "\n",
    "## 1.1.  GloVe Parameter Count \\[0pt\\]\n",
    "Given the vocabulary size $V$ and embedding dimensionality $d$, how many parameters does the GloVe model have?  Note that each word in the vocabulary is associated with 2 embedding vectors and 2 biases."
   ]
  },
  {
   "cell_type": "markdown",
   "metadata": {
    "id": "gREV4DxJx98K"
   },
   "source": [
    "1.1 **Answer**: **\\*\\*TODO: Write Part 1.1 answer here\\*\\***"
   ]
  },
  {
   "cell_type": "markdown",
   "metadata": {
    "id": "rKbDkmuGoTCC"
   },
   "source": [
    "## 1.2 Expression for the Vectorized Loss function [0.5pt]\n",
    " In practice, we concatenate the $V$ embedding vectors into matrices $\\mathbf{W}, \\tilde{\\mathbf{W}} \\in \\mathbb{R}^{V \\times d}$ and bias (column) vectors $\\mathbf{b}, \\tilde{\\mathbf{b}} \\in \\mathbb{R}^{V}$, where $V$ denotes the number of distinct words as described in the introduction. Rewrite the loss function $L$ (Eq. 1) in a vectorized format in terms of $\\mathbf{W}, \\tilde{\\mathbf{W}}, \\mathbf{b}, \\tilde{\\mathbf{b}}, X$. You are allowed to use elementwise operations such as addition and subtraction as well as matrix operations such as the Frobenius norm and/or trace operator in your answer.\n",
    "        \n",
    "*Hint: Use the all-ones column vector $\\mathbf{1} = [1 \\dots 1]^{T} \\in \\mathbb{R}^{V}$. You can assume the bias vectors are column vectors, i.e. implicitly a matrix with $V$ rows and 1 column: $\\mathbf{b}, \\tilde{\\mathbf{b}} \\in \\mathbb{R}^{V \\times 1}$*"
   ]
  },
  {
   "cell_type": "markdown",
   "metadata": {
    "id": "0tz4hzwPogsL"
   },
   "source": [
    "1.2 **Answer**: \n",
    "**\\*\\*TODO: Write Part 1.2 answer here\\*\\***\n",
    "\n",
    "Let $\\tilde{B} = [1,...,1]^T\\tilde{b}^T$, so $\\tilde{b}^T$ repeated V times, and let $B = b[1,...,1]$, so $b$ repeated V times, with the ones vector and $b$ in $\\mathbb{R}^V$. Now, consider the matrix: $W\\tilde{W} + \\tilde{B} + B - log(X)$. We'll call this matrix $C$, which will be relevant in the next question. Note that at index $(i,j)$ we have $w_i^T\\tilde{w}_j + b_i + \\tilde{b}_j + log(X_{ij})$. So if we take the frobenius norm of this matrix, we have $∑_{i,j} (w_i^T\\tilde{w}_j + b_i + \\tilde{b}_j + log(X_{ij}))^2$. Hence $L = ||C||^2 = ||W\\tilde{W} + \\tilde{B} + B - log(X)||^2$"
   ]
  },
  {
   "cell_type": "markdown",
   "metadata": {
    "id": "_vQIRZynyGpl"
   },
   "source": [
    "## 1.3. Expression for gradient $\\frac{\\partial L}{\\partial \\mathbf{W}}$ \\[0.5pt\\]\n",
    "\n",
    "Write the vectorized expression for $\\frac{\\partial L}{\\partial \\mathbf{W}}$, the gradient of the loss function $L$ with respect to the embedding matrix $\\mathbf{W}$. The gradient should be a function of $\\mathbf{W}, \\tilde{\\mathbf{W}}, \\mathbf{b}, \\tilde{\\mathbf{b}}, X$. \n",
    "\n",
    "*Hint: Make sure that the shape of the gradient is equivalent to the shape of the matrix. You can use the all-ones vector as in the previous question.*"
   ]
  },
  {
   "cell_type": "markdown",
   "metadata": {
    "id": "HYDCmo7UyLyI"
   },
   "source": [
    "1.3 **Answer**: **\\*\\*TODO: Write Part 1.3 answer here \\*\\***\n",
    "\n",
    "$\\frac{\\partial L}{\\partial \\mathbf{W}_{k,l}} = ∑_j 2(w_l^T\\tilde{w}_j + b_l + \\tilde{b}_j - log(X_{lj})) * \\tilde{w}_{jk}$. So, in vectorized form this is $2C\\tilde{W}$, where C is defined as in 1.2.\n"
   ]
  },
  {
   "cell_type": "markdown",
   "metadata": {
    "id": "jQJrG7fkpEOe"
   },
   "source": [
    "## 1.4 Implement Vectorized Loss Function [1pt]\n",
    "\n",
    "Implement the `loss_GloVe()` function of GloVe. \n",
    "\n",
    "**See** `YOUR CODE HERE` **Comment below for where to complete the code**\n",
    "\n",
    "Note that you need to implement both the loss for an *asymmetric* model (from your answer in question 1.2) and the loss for a *symmetric* model which uses the same embedding matrix $\\mathbf{W}$ and bias vector $\\mathbf{b}$ for the first and second word in the co-occurrence, i.e. $\\tilde{\\mathbf{W}} = \\mathbf{W}$ and $\\tilde{\\mathbf{b}} = \\mathbf{b}$ in the original loss.\n",
    "        \n",
    "*Hint: You may take advantage of NumPy's broadcasting feature for the bias vectors: https://numpy.org/doc/stable/user/basics.broadcasting.html*\n",
    "\n",
    "We have provided a few functions for training the embedding:\n",
    "\n",
    "*   `calculate_log_co_occurence` computes the log co-occurrence matrix of a given corpus\n",
    "*   `train_GloVe` runs momentum gradient descent to optimize the embedding\n",
    "*   `loss_GloVe`: **TO BE IMPLEMENTED.**\n",
    "  * INPUT \n",
    "      * V x d matrix `W` (collection of $V$ embedding vectors, each $d$-dimensional)\n",
    "      * V x d matrix `W_tilde` \n",
    "      * V x 1 vector `b` (collection of $V$ bias terms)\n",
    "      * V x 1 vector `b_tilde`\n",
    "      * V x V log co-occurrence matrix. \n",
    "  * OUTPUT\n",
    "      * loss of the GloVe objective\n",
    "*   `grad_GloVe`: **TO BE IMPLEMENTED.**\n",
    "  * INPUT:\n",
    "      * V x d matrix `W` (collection of $V$ embedding vectors, each $d$-dimensional), embedding for first word; \n",
    "      * V x d matrix `W_tilde`, embedding for second word; \n",
    "      * V x 1 vector `b` (collection of $V$ bias terms); \n",
    "      * V x 1 vector `b_tilde`, bias for second word; \n",
    "      * V x V log co-occurrence matrix. \n",
    "  * OUTPUT:\n",
    "      * V x d matrix `grad_W` containing the gradient of the loss function w.r.t. `W`;\n",
    "      * V x d matrix `grad_W_tilde` containing the gradient of the loss function w.r.t. `W_tilde`;\n",
    "      * V x 1 vector `grad_b` which is the gradient of the loss function w.r.t. `b`. \n",
    "      * V x 1 vector `grad_b_tilde` which is the gradient of the loss function w.r.t. `b_tilde`. \n",
    "\n",
    "Run the code to compute the co-occurence matrix.\n",
    "\n",
    "        "
   ]
  },
  {
   "cell_type": "code",
   "execution_count": 12,
   "metadata": {
    "id": "rw0IToBap3E2"
   },
   "outputs": [],
   "source": [
    "vocab_size = len(data['vocab']) # Number of vocabs\n",
    "\n",
    "def calculate_log_co_occurence(word_data, symmetric=False):\n",
    "  \"Compute the log-co-occurence matrix for our data.\"\n",
    "  log_co_occurence = np.zeros((vocab_size, vocab_size))\n",
    "  for input in word_data:\n",
    "    # Note: the co-occurence matrix may not be symmetric\n",
    "    log_co_occurence[input[0], input[1]] += 1\n",
    "    log_co_occurence[input[1], input[2]] += 1\n",
    "    log_co_occurence[input[2], input[3]] += 1\n",
    "    # Diagonal entries are just the frequency of the word\n",
    "    log_co_occurence[input[0], input[0]] += 1\n",
    "    log_co_occurence[input[1], input[1]] += 1\n",
    "    log_co_occurence[input[2], input[2]] += 1\n",
    "    log_co_occurence[input[3], input[3]] += 1\n",
    "    # If we want symmetric co-occurence can also increment for these.\n",
    "    if symmetric:\n",
    "      log_co_occurence[input[1], input[0]] += 1\n",
    "      log_co_occurence[input[2], input[1]] += 1\n",
    "      log_co_occurence[input[3], input[2]] += 1\n",
    "  delta_smoothing = 0.5  # A hyperparameter.  You can play with this if you want.\n",
    "  log_co_occurence += delta_smoothing  # Add delta so log doesn't break on 0's.\n",
    "  log_co_occurence = np.log(log_co_occurence)\n",
    "  return log_co_occurence\n"
   ]
  },
  {
   "cell_type": "code",
   "execution_count": 13,
   "metadata": {
    "id": "5K0knDihp45W"
   },
   "outputs": [],
   "source": [
    "asym_log_co_occurence_train = calculate_log_co_occurence(data['train_inputs'], symmetric=False)\n",
    "asym_log_co_occurence_valid = calculate_log_co_occurence(data['valid_inputs'], symmetric=False)"
   ]
  },
  {
   "cell_type": "markdown",
   "metadata": {
    "id": "7vbozDCFp8lD"
   },
   "source": [
    "* [ ] **TO BE IMPLEMENTED**: Implement the loss function. You should vectorize the computation, i.e. not loop over every word."
   ]
  },
  {
   "cell_type": "code",
   "execution_count": 14,
   "metadata": {
    "id": "U1zltFcrqFnq"
   },
   "outputs": [],
   "source": [
    "def loss_GloVe(W, W_tilde, b, b_tilde, log_co_occurence):\n",
    "  \"\"\" Compute the GloVe loss given the parameters of the model. When W_tilde \n",
    "  and b_tilde are not given, then the model is symmetric (i.e. W_tilde = W,\n",
    "  b_tilde = b). \n",
    "\n",
    "  Args:\n",
    "    W: word embedding matrix, dimension V x d where V is vocab size and d\n",
    "      is the embedding dimension\n",
    "    W_tilde: for asymmetric GloVe model, a second word embedding matrix, with\n",
    "      dimensions V x d\n",
    "    b: bias vector, dimension V.\n",
    "    b_tilde: for asymmetric GloVe model, a second bias vector, dimension V\n",
    "    log_co_occurence: V x V log co-occurrence matrix (log X)\n",
    "  \n",
    "  Returns:\n",
    "    loss: a scalar (float) for GloVe loss\n",
    "  \"\"\"\n",
    "  n,_ = log_co_occurence.shape\n",
    "  # Symmetric Case, no W_tilde and b_tilde\n",
    "  if W_tilde is None and b_tilde is None:\n",
    "    # Symmetric model\n",
    "    ###########################   YOUR CODE HERE  ##############################\n",
    "    b = np.asarray([element[0] for element in b])\n",
    "    B = np.outer(b, np.ones(n))\n",
    "    B_2 = np.outer(np.ones(n), b)\n",
    "\n",
    "    log_co_occurence = np.transpose(log_co_occurence) + log_co_occurence\n",
    "\n",
    "    WW_T = np.matmul(W, np.transpose(W))\n",
    "    C = WW_T + B + B_2 - log_co_occurence\n",
    "\n",
    "    loss = np.linalg.norm(C)**2\n",
    "    ############################################################################\n",
    "  else: \n",
    "    # Asymmetric model\n",
    "    ###########################   YOUR CODE HERE  ##############################\n",
    "    b_tilde = np.asarray([element[0] for element in b_tilde])\n",
    "    b = np.asarray([element[0] for element in b])\n",
    "\n",
    "    B_tilde = np.outer(np.ones(n), b_tilde)\n",
    "    B = np.outer(b,np.ones(n))\n",
    "\n",
    "    WW_tildeT = np.matmul(W, np.transpose(W_tilde))\n",
    "\n",
    "    loss = np.linalg.norm(WW_tildeT + B_tilde + B - log_co_occurence)**2\n",
    "    ############################################################################\n",
    "  return loss\n"
   ]
  },
  {
   "cell_type": "markdown",
   "metadata": {
    "id": "HzWek3lP0p2e"
   },
   "source": [
    "## 1.5.  Implement the gradient update of GloVe. \\[1pt\\]\n",
    "\n",
    "Implement the `grad_GloVe()` function which computes the gradient of GloVe.\n",
    "\n",
    "**See** `YOUR CODE HERE` **Comment below for where to complete the code**\n",
    "\n",
    "\n",
    "Again, note that you need to implement the gradient for both the symmetric and asymmetric models. "
   ]
  },
  {
   "cell_type": "markdown",
   "metadata": {
    "id": "gNnKkMy-d2bB"
   },
   "source": [
    "* [ ] **TO BE IMPLEMENTED**: Calculate the gradient of the loss function w.r.t. the parameters $W$, $\\tilde{W}$, $\\mathbf{b}$, and $\\mathbf{b}$. You should vectorize the computation, i.e. not loop over every word."
   ]
  },
  {
   "cell_type": "code",
   "execution_count": 15,
   "metadata": {
    "id": "LbpkXeaAdwnj"
   },
   "outputs": [],
   "source": [
    "def grad_GloVe(W, W_tilde, b, b_tilde, log_co_occurence):\n",
    "  \"\"\"Return the gradient of GloVe objective w.r.t its parameters\n",
    "  Args:\n",
    "    W: word embedding matrix, dimension V x d where V is vocab size and d\n",
    "      is the embedding dimension\n",
    "    W_tilde: for asymmetric GloVe model, a second word embedding matrix, with\n",
    "      dimensions V x d\n",
    "    b: bias vector, dimension V.\n",
    "    b_tilde: for asymmetric GloVe model, a second bias vector, dimension V\n",
    "    log_co_occurence: V x V log co-occurrence matrix (log X)\n",
    "  \n",
    "  Returns:\n",
    "    grad_W: gradient of the loss wrt W, dimension V x d\n",
    "    grad_W_tilde: gradient of the loss wrt W_tilde, dimension V x d. Return \n",
    "      None if W_tilde is None.\n",
    "    grad_b: gradient of the loss wrt b, dimension V x 1\n",
    "    grad_b_tilde: gradient of the loss wrt b, dimension V x 1. Return \n",
    "      None if b_tilde is None.\n",
    "  \"\"\"\n",
    "  n,_ = log_co_occurence.shape\n",
    "  \n",
    "  if W_tilde is None and b_tilde is None:\n",
    "    # Symmmetric case\n",
    "    ###########################   YOUR CODE HERE  ##############################\n",
    "    b = np.asarray([element[0] for element in b])\n",
    "    B = np.outer(b,np.ones(n))\n",
    "    B_2 = np.outer(np.ones(n), b)\n",
    "\n",
    "    WW_T = np.matmul(W, np.transpose(W))\n",
    "\n",
    "    log_co_occurence = np.transpose(log_co_occurence) + log_co_occurence\n",
    "    \n",
    "    C = WW_T + B + B_2 - log_co_occurence\n",
    "\n",
    "    grad_W = np.matmul(4*C, W)\n",
    "    grad_b = np.asarray([[element] for element in np.sum(4*C, axis = 0)])\n",
    "    grad_W_tilde = None\n",
    "    grad_b_tilde = None\n",
    "    ############################################################################\n",
    "  else:\n",
    "    # Asymmetric case\n",
    "    ###########################   YOUR CODE HERE  ##############################\n",
    "\n",
    "    b_tilde = np.asarray([element[0] for element in b_tilde])\n",
    "    b = np.asarray([element[0] for element in b])\n",
    "\n",
    "    B_tilde = np.outer(np.ones(n), b_tilde)\n",
    "    B = np.outer(b,np.ones(n))\n",
    "\n",
    "    WW_tildeT = np.matmul(W, np.transpose(W_tilde))\n",
    "    C = WW_tildeT + B_tilde + B - log_co_occurence\n",
    "\n",
    "    grad_W = np.matmul(2*C, W_tilde)\n",
    "    grad_W_tilde = np.matmul(2*np.transpose(C), W)\n",
    "    grad_b_tilde = np.array([[element] for element in np.sum(2*C,axis = 0)])\n",
    "    grad_b = np.array([[element] for element in np.sum(2*C, axis = 1)])\n",
    "\n",
    "  return grad_W, grad_W_tilde, grad_b, grad_b_tilde"
   ]
  },
  {
   "cell_type": "markdown",
   "metadata": {
    "id": "U5_CAJ0VxzI3"
   },
   "source": [
    "To help you debug your GloVe gradient computation, we have included a finite-difference gradien checker function defined below:"
   ]
  },
  {
   "cell_type": "code",
   "execution_count": 16,
   "metadata": {
    "id": "HNiv-P0or6gt"
   },
   "outputs": [],
   "source": [
    "def relative_error(a, b):\n",
    "    return np.abs(a - b) / (np.abs(a) + np.abs(b))\n",
    " \n",
    "def check_GloVe_gradients(W, W_tilde, b, b_tilde, log_co_occurence):\n",
    "    \"\"\"Check the computed gradients using finite differences.\"\"\"\n",
    "    np.random.seed(0)\n",
    "    np.seterr(all='ignore')  # suppress a warning which is harmless\n",
    "\n",
    "    # Obtain the analytical gradient\n",
    "    grad_W, grad_W_tilde, grad_b, grad_b_tilde = grad_GloVe(W, W_tilde, b, b_tilde, log_co_occurence)\n",
    "    grads_dict = {\"W\":grad_W, \"W_tilde\": grad_W_tilde, \n",
    "                      \"b\": grad_b, \"b_tilde\": grad_b_tilde}\n",
    "\n",
    "    params_dict = {\"W\":W, \"W_tilde\":W_tilde, \"b\":b, \"b_tilde\":b_tilde}\n",
    "\n",
    "    # Check that the shapes of the parameters and gradients match\n",
    "    for name in params_dict:\n",
    "      if params_dict[name] is None:\n",
    "        continue\n",
    "      dims = params_dict[name].shape\n",
    "      is_matrix = (len(dims) == 2)\n",
    "      if not is_matrix:\n",
    "        print()\n",
    "\n",
    "      if params_dict[name].shape != grads_dict[name].shape:\n",
    "        print('The gradient for {} should be size {} but is actually {}.'.format(\n",
    "            name, params_dict[name].shape, grads_dict[name].shape))\n",
    "        return\n",
    "\n",
    "      # Run finite difference for that param\n",
    "      for count in range(1000):\n",
    "        if is_matrix:\n",
    "            slc = np.random.randint(0, dims[0]), np.random.randint(0, dims[1])\n",
    "        else:\n",
    "            slc = np.random.randint(dims[0])\n",
    "        \n",
    "        params_dict_plus = params_dict.copy()\n",
    "        params_dict_plus[name] = params_dict[name].copy()\n",
    "        params_dict_plus[name][slc] += EPS\n",
    "        obj_plus = loss_GloVe(params_dict_plus[\"W\"], \n",
    "                              params_dict_plus[\"W_tilde\"], \n",
    "                              params_dict_plus[\"b\"],\n",
    "                              params_dict_plus[\"b_tilde\"],\n",
    "                              log_co_occurence)\n",
    "\n",
    "        params_dict_minus = params_dict.copy()\n",
    "        params_dict_minus[name] = params_dict[name].copy()\n",
    "        params_dict_minus[name][slc] -= EPS\n",
    "        obj_minus = loss_GloVe(params_dict_minus[\"W\"], \n",
    "                              params_dict_minus[\"W_tilde\"], \n",
    "                              params_dict_minus[\"b\"],\n",
    "                              params_dict_minus[\"b_tilde\"],\n",
    "                              log_co_occurence)\n",
    "\n",
    "        empirical = (obj_plus - obj_minus) / (2. * EPS)\n",
    "        exact = grads_dict[name][slc]\n",
    "        rel = relative_error(empirical, exact)\n",
    "        if rel > 5e-4:\n",
    "          print('The loss derivative has a relative error of {}, which is too large for param {}.'.format(rel, name))\n",
    "          return False\n",
    "      print('The gradient for {} looks OK.'.format(name))"
   ]
  },
  {
   "cell_type": "markdown",
   "metadata": {
    "id": "4TyVFJtax8Dd"
   },
   "source": [
    "Run the cell below to check if your `grad_GloVe` function passes the checker. The function will check for both the symmetric and asymmetric loss, for each of the parameter variables whether its gradient computation looks ok. The expected output is:\n",
    "\n",
    "```\n",
    "Checking asymmetric loss gradient...\n",
    "The gradient for W looks OK.\n",
    "The gradient for W_tilde looks OK.\n",
    "The gradient for b looks OK.\n",
    "The gradient for b_tilde looks OK.\n",
    "\n",
    "Checking symmetric loss gradient...\n",
    "The gradient for W looks OK.\n",
    "The gradient for b looks OK.\n",
    "```\n",
    "\n",
    "Note: If you update the `grad_GloVe` cell while debugging, make sure to run the `grad_GloVe` cell again before re-running the cell below to check the gradient.\n",
    "\n",
    "- [ ] **TODO**: Run this cell below to check the gradient implementation"
   ]
  },
  {
   "cell_type": "code",
   "execution_count": 17,
   "metadata": {
    "colab": {
     "base_uri": "https://localhost:8080/"
    },
    "id": "SY5scli4sPKP",
    "outputId": "f990bcf9-78fe-49d1-951a-1f8d3fac25e3"
   },
   "outputs": [
    {
     "name": "stdout",
     "output_type": "stream",
     "text": [
      "Checking asymmetric loss gradient...\n",
      "The gradient for W looks OK.\n",
      "The gradient for W_tilde looks OK.\n",
      "The gradient for b looks OK.\n",
      "The gradient for b_tilde looks OK.\n",
      "\n",
      "Checking symmetric loss gradient...\n",
      "The gradient for W looks OK.\n",
      "The gradient for b looks OK.\n"
     ]
    }
   ],
   "source": [
    "np.random.seed(0)\n",
    "\n",
    "# Store the final losses for graphing\n",
    "init_variance = 0.05  # A hyperparameter.  You can play with this if you want.\n",
    "embedding_dim = 16\n",
    "W = init_variance * np.random.normal(size=(vocab_size, embedding_dim))\n",
    "W_tilde = init_variance * np.random.normal(size=(vocab_size, embedding_dim))\n",
    "b = init_variance * np.random.normal(size=(vocab_size, 1))\n",
    "b_tilde = init_variance * np.random.normal(size=(vocab_size, 1))\n",
    "\n",
    "print(\"Checking asymmetric loss gradient...\")\n",
    "check_GloVe_gradients(W, W_tilde, b, b_tilde, asym_log_co_occurence_train)\n",
    "\n",
    "print(\"\\nChecking symmetric loss gradient...\")\n",
    "check_GloVe_gradients(W, None, b, None, asym_log_co_occurence_train)"
   ]
  },
  {
   "cell_type": "markdown",
   "metadata": {
    "id": "DXJBYGqX6hP_"
   },
   "source": [
    "Now that you have checked taht the gradient is correct, we define the training function for the model given the initial weights and ground truth log co-occurence matrix:"
   ]
  },
  {
   "cell_type": "code",
   "execution_count": 18,
   "metadata": {
    "id": "sefu3T7u6jBL"
   },
   "outputs": [],
   "source": [
    "def train_GloVe(W, W_tilde, b, b_tilde, log_co_occurence_train, log_co_occurence_valid, n_epochs, do_print=False):\n",
    "  \"Traing W and b according to GloVe objective.\"\n",
    "  n,_ = log_co_occurence_train.shape\n",
    "  learning_rate = 0.05 / n  # A hyperparameter.  You can play with this if you want.\n",
    "  train_loss_list = np.zeros(n_epochs)\n",
    "  valid_loss_list = np.zeros(n_epochs)\n",
    "  vocab_size = log_co_occurence_train.shape[0]\n",
    "\n",
    "  for epoch in range(n_epochs):\n",
    "    grad_W, grad_W_tilde, grad_b, grad_b_tilde = grad_GloVe(W, W_tilde, b, b_tilde, log_co_occurence_train)\n",
    "    W = W - learning_rate * grad_W\n",
    "    b = b - learning_rate * grad_b\n",
    "    if not grad_W_tilde is None and not grad_b_tilde is None:\n",
    "      W_tilde = W_tilde - learning_rate * grad_W_tilde\n",
    "      b_tilde = b_tilde - learning_rate * grad_b_tilde\n",
    "    train_loss, valid_loss = loss_GloVe(W, W_tilde, b, b_tilde, log_co_occurence_train), loss_GloVe(W, W_tilde, b, b_tilde, log_co_occurence_valid)\n",
    "    if do_print:\n",
    "      print(f\"Average Train Loss: {train_loss / vocab_size}, Average valid loss: {valid_loss / vocab_size}, grad_norm: {np.sum(grad_W**2)}\")\n",
    "    train_loss_list[epoch] = train_loss / vocab_size\n",
    "    valid_loss_list[epoch] = valid_loss / vocab_size\n",
    "\n",
    "  return W, W_tilde, b, b_tilde, train_loss_list, valid_loss_list"
   ]
  },
  {
   "cell_type": "markdown",
   "metadata": {
    "id": "AwmBLMvKGE9-"
   },
   "source": [
    "- [ ] **TODO**: Run this cell below to run an experiment training GloVe model "
   ]
  },
  {
   "cell_type": "code",
   "execution_count": 19,
   "metadata": {
    "colab": {
     "base_uri": "https://localhost:8080/",
     "height": 312
    },
    "id": "eIbyEcyhFwDC",
    "outputId": "877115b2-dca9-4063-8940-5d8495dc4934"
   },
   "outputs": [
    {
     "data": {
      "text/plain": [
       "<matplotlib.legend.Legend at 0x7fe44c8dae48>"
      ]
     },
     "execution_count": 19,
     "metadata": {},
     "output_type": "execute_result"
    },
    {
     "data": {
      "image/png": "[encoded data removed]",
      "text/plain": [
       "<Figure size 432x288 with 1 Axes>"
      ]
     },
     "metadata": {
      "needs_background": "light"
     },
     "output_type": "display_data"
    }
   ],
   "source": [
    "### TODO: Run this cell ###\n",
    "np.random.seed(1)\n",
    "n_epochs = 500  # A hyperparameter.  You can play with this if you want.\n",
    "\n",
    "# Store the final losses for graphing\n",
    "do_print = False  # If you want to see diagnostic information during training\n",
    "init_variance = 0.1  # A hyperparameter.  You can play with this if you want.\n",
    "embedding_dim = 16\n",
    "W = init_variance * np.random.normal(size=(vocab_size, embedding_dim))\n",
    "W_tilde = init_variance * np.random.normal(size=(vocab_size, embedding_dim))\n",
    "b = init_variance * np.random.normal(size=(vocab_size, 1))\n",
    "b_tilde = init_variance * np.random.normal(size=(vocab_size, 1))\n",
    "\n",
    "# Run the training for the asymmetric and symmetric GloVe model\n",
    "Asym_W_final, Asym_W_tilde_final, Asym_b_final, Asym_b_tilde_final, Asym_train_loss_list, Asym_valid_loss_list = train_GloVe(W, W_tilde, b, b_tilde, asym_log_co_occurence_train, asym_log_co_occurence_valid, n_epochs, do_print=do_print)\n",
    "Sym_W_final, Sym_W_tilde_final, Sym_b_final, Sym_b_tilde_final, Sym_train_loss_list, Sym_valid_loss_list = train_GloVe(W, None, b, None, asym_log_co_occurence_train, asym_log_co_occurence_valid, n_epochs, do_print=do_print)\n",
    "\n",
    "# Plot the resulting training curve\n",
    "pylab.plot(Asym_train_loss_list, label=\"Asym Train Loss\", color='red')\n",
    "pylab.plot(Asym_valid_loss_list, label=\"Asym Valid Loss\", color='red', linestyle='--')\n",
    "pylab.plot(Sym_train_loss_list, label=\"Sym Train Loss\", color='blue')\n",
    "pylab.plot(Sym_valid_loss_list, label=\"Sym Valid Loss\", color='blue', linestyle='--')\n",
    "pylab.xlabel(\"Iterations\")\n",
    "pylab.ylabel(\"Average GloVe Loss\")\n",
    "pylab.title(\"Asymmetric and Symmetric GloVe Model on Asymmetric Log Co-Occurrence (Emb Dim={})\".format(embedding_dim))\n",
    "pylab.legend()"
   ]
  },
  {
   "cell_type": "markdown",
   "metadata": {
    "id": "cLTzPRRMqh2H"
   },
   "source": [
    "## 1.6 Effects of a buggy implementation [0pt]\n",
    "\n",
    "Suppose that during the implementation, you initialized the weight embedding matrix $\\mathbf{W}$ and $\\tilde{\\mathbf{W}}$ with the same initial values (i.e., $\\mathbf{W} = \\tilde{\\mathbf{W}} = \\mathbf{W}_0$).\n",
    "\n",
    "What will happen to the values of $\\mathbf{W}$ and $\\tilde{\\mathbf{W}}$ over the course of training. Will they stay equal to each other, or diverge from each other? Explain your answer briefly. \n",
    "        \n",
    "*Hint: Consider the gradient $\\frac{\\partial L}{\\partial \\mathbf{W}}$ versus  $\\frac{\\partial L}{\\partial \\tilde{\\mathbf{W}}}$*"
   ]
  },
  {
   "cell_type": "markdown",
   "metadata": {
    "id": "cEd9gGgkaijK"
   },
   "source": [
    "1.6 **Answer**: **\\*\\*TODO: Write Part 1.6 answer here \\*\\***\n"
   ]
  },
  {
   "cell_type": "markdown",
   "metadata": {
    "id": "bRoG_sqZySHD"
   },
   "source": [
    "## 1.7. Effect of embedding dimension $d$ \\[0pt\\]\n",
    "Train the both the symmetric and asymmetric GLoVe model with varying dimensionality $d$ by running the cell below. Comment on:\n",
    "1. Which $d$ leads to optimal validation performance for the asymmetric and symmetric models?\n",
    "2. Why does / doesn't larger $d$ always lead to better validation error? \n",
    "3. Which model is performing better, and why?\n"
   ]
  },
  {
   "cell_type": "markdown",
   "metadata": {
    "id": "mD5jnHJB2hFy"
   },
   "source": [
    "1.7 Answer: **\\*\\*TODO: Write Part 1.7 answer here\\*\\***"
   ]
  },
  {
   "cell_type": "markdown",
   "metadata": {
    "id": "pjiNQ0WkWi1Z"
   },
   "source": [
    "Train the GloVe model for a range of embedding dimensions"
   ]
  },
  {
   "cell_type": "code",
   "execution_count": 20,
   "metadata": {
    "id": "46yGUezEMLJe"
   },
   "outputs": [
    {
     "name": "stderr",
     "output_type": "stream",
     "text": [
      "100%|██████████| 5/5 [00:14<00:00,  2.89s/it]\n"
     ]
    }
   ],
   "source": [
    "np.random.seed(1)\n",
    "n_epochs = 500  # A hyperparameter.  You can play with this if you want.\n",
    "embedding_dims = np.array([1, 2, 10, 128, 256])  # Play with this\n",
    "# Store the final losses for graphing\n",
    "asymModel_asymCoOc_final_train_losses, asymModel_asymCoOc_final_val_losses = [], []\n",
    "symModel_asymCoOc_final_train_losses, symModel_asymCoOc_final_val_losses = [], []\n",
    "Asym_W_final_2d, Asym_b_final_2d, Asym_W_tilde_final_2d, Asym_b_tilde_final_2d = None, None, None, None\n",
    "W_final_2d, b_final_2d = None, None\n",
    "do_print = False  # If you want to see diagnostic information during training\n",
    "\n",
    "for embedding_dim in tqdm(embedding_dims):\n",
    "  init_variance = 0.1  # A hyperparameter.  You can play with this if you want.\n",
    "  W = init_variance * np.random.normal(size=(vocab_size, embedding_dim))\n",
    "  W_tilde = init_variance * np.random.normal(size=(vocab_size, embedding_dim))\n",
    "  b = init_variance * np.random.normal(size=(vocab_size, 1))\n",
    "  b_tilde = init_variance * np.random.normal(size=(vocab_size, 1))\n",
    "  if do_print:\n",
    "    print(f\"Training for embedding dimension: {embedding_dim}\")\n",
    "  \n",
    "  # Train Asym model on Asym Co-Oc matrix\n",
    "  Asym_W_final, Asym_W_tilde_final, Asym_b_final, Asym_b_tilde_final, train_loss_list, valid_loss_list = train_GloVe(W, W_tilde, b, b_tilde, asym_log_co_occurence_train, asym_log_co_occurence_valid, n_epochs, do_print=do_print)\n",
    "  if embedding_dim == 2:\n",
    "    # Save a parameter copy if we are training 2d embedding for visualization later\n",
    "    Asym_W_final_2d = Asym_W_final\n",
    "    Asym_W_tilde_final_2d = Asym_W_tilde_final\n",
    "    Asym_b_final_2d = Asym_b_final\n",
    "    Asym_b_tilde_final_2d = Asym_b_tilde_final\n",
    "  asymModel_asymCoOc_final_train_losses += [train_loss_list[-1]]\n",
    "  asymModel_asymCoOc_final_val_losses += [valid_loss_list[-1]]\n",
    "  if do_print:\n",
    "    print(f\"Final validation loss: {valid_loss}\")\n",
    "  \n",
    "  # Train Sym model on Asym Co-Oc matrix\n",
    "  W_final, W_tilde_final, b_final, b_tilde_final, train_loss_list, valid_loss_list = train_GloVe(W, None, b, None, asym_log_co_occurence_train, asym_log_co_occurence_valid, n_epochs, do_print=do_print)\n",
    "  if embedding_dim == 2:\n",
    "    # Save a parameter copy if we are training 2d embedding for visualization later\n",
    "    W_final_2d = W_final\n",
    "    b_final_2d = b_final\n",
    "  symModel_asymCoOc_final_train_losses += [train_loss_list[-1]]\n",
    "  symModel_asymCoOc_final_val_losses += [valid_loss_list[-1]]\n",
    "  if do_print:\n",
    "    print(f\"Final validation loss: {valid_loss}\")"
   ]
  },
  {
   "cell_type": "markdown",
   "metadata": {
    "id": "hzV-qFf5WfAp"
   },
   "source": [
    "Plot the training and validation losses against the embedding dimension."
   ]
  },
  {
   "cell_type": "code",
   "execution_count": 21,
   "metadata": {
    "id": "WHgHgSzJTg5d"
   },
   "outputs": [
    {
     "data": {
      "text/plain": [
       "<matplotlib.legend.Legend at 0x7fe44c670f28>"
      ]
     },
     "execution_count": 21,
     "metadata": {},
     "output_type": "execute_result"
    },
    {
     "data": {
      "image/png": "[encoded data removed]",
      "text/plain": [
       "<Figure size 432x288 with 1 Axes>"
      ]
     },
     "metadata": {
      "needs_background": "light"
     },
     "output_type": "display_data"
    }
   ],
   "source": [
    "pylab.loglog(embedding_dims, asymModel_asymCoOc_final_train_losses, label=\"Asymmetric Model / Asymmetric Co-Oc\", linestyle=\"--\")\n",
    "pylab.loglog(embedding_dims, symModel_asymCoOc_final_train_losses , label=\"Symmetric Model / Asymmetric Co-Oc\")\n",
    "pylab.xlabel(\"Embedding Dimension\")\n",
    "pylab.ylabel(\"Training Loss\")\n",
    "pylab.legend()"
   ]
  },
  {
   "cell_type": "code",
   "execution_count": 22,
   "metadata": {
    "id": "0UJSfg_hfvIV"
   },
   "outputs": [
    {
     "data": {
      "text/plain": [
       "<matplotlib.legend.Legend at 0x7fe44ba24550>"
      ]
     },
     "execution_count": 22,
     "metadata": {},
     "output_type": "execute_result"
    },
    {
     "data": {
      "image/png": "[encoded data removed]",
      "text/plain": [
       "<Figure size 432x288 with 1 Axes>"
      ]
     },
     "metadata": {
      "needs_background": "light"
     },
     "output_type": "display_data"
    }
   ],
   "source": [
    "pylab.loglog(embedding_dims, asymModel_asymCoOc_final_val_losses, label=\"Asymmetric Model / Asymmetric Co-Oc\", linestyle=\"--\")\n",
    "pylab.loglog(embedding_dims, symModel_asymCoOc_final_val_losses , label=\"Sym Model / Asymmetric Co-Oc\")\n",
    "pylab.xlabel(\"Embedding Dimension\")\n",
    "pylab.ylabel(\"Validation Loss\")\n",
    "pylab.legend(loc=\"upper left\")"
   ]
  },
  {
   "cell_type": "markdown",
   "metadata": {
    "id": "7YwDZcOhjywe"
   },
   "source": [
    "# Part 2: Network Architecture (1pts)\n",
    "See the handout for the written questions in this part.\n",
    "\n",
    "## Answer the following questions"
   ]
  },
  {
   "cell_type": "markdown",
   "metadata": {
    "id": "wBQmEPvazDkA"
   },
   "source": [
    "## 2.1. Number of parameters in neural network model \\[0.5pt\\]\n",
    "\n",
    "The trainable parameters of the model consist of 3 weight matrices and 2 sets of biases. What is the total number of trainable parameters in the model, as a function of $V,N,D,H$? \n",
    "\n",
    "In the diagram given, which part of the model (i.e., `word_embbeding_weights`, `embed_to_hid_weights`, `hid_to_output_weights`, `hid_bias`, or `output_bias`) has the largest number of trainable parameters if we have the constraint that $V \\gg H > D > N$? Note: The symbol $\\gg$ means ``much greater than\" Explain your reasoning. \n"
   ]
  },
  {
   "cell_type": "markdown",
   "metadata": {
    "id": "CJKJ7qi9zVAm"
   },
   "source": [
    "2.1 Answer: **\\*\\*TODO: Write Part 2.1 answer here\\*\\***\n",
    "\n",
    "Well, the first matrix $W_{word-embedding}$ takes in $N$ numbers and outputs $ND$ numbers, a d-dimensional vector for each word, totalling $DN^2$. The next matrix $W_{embed-to-hid}$ takes in the word vectors, so $ND$ and outputs elements for the hidden layer, of which there are $H$. So this matrix has $NDH$ entries. And there's a bias vector of dimension $H$ as well. The last matrix $W_{hid-to-output}$ takes in $H$ numbers and outputs $NV$, totalling $NVH$, and it also has a bias of dimension $NV$. Totalling this all together, and we have $DN^{2}+DNH+H+NVH+NV$. With the constraints mentioned, we see that the matrix $W_{hid-to-output}$ has the largest number of parameters since it is one of only two matrices which includes a $V$ term, but it also has as an $H$ term.\n",
    "\n"
   ]
  },
  {
   "cell_type": "markdown",
   "metadata": {
    "id": "Cx_h25zYzVWJ"
   },
   "source": [
    "## 2.2 Number of parameters in $n$-gram model \\[0.5pt\\]\n",
    "Another method for predicting the next words is an *n-gram model*, which was mentioned in Lecture 3. If we wanted to use an n-gram model with the same context length $N-1$ as our network (since we mask 1 of the $N$ words in our input), we'd need to store the counts of all possible $N$-grams. If we stored all the counts explicitly and suppose that we have $V$ words in the dictionary, how many entries would this table have?"
   ]
  },
  {
   "cell_type": "markdown",
   "metadata": {
    "id": "n4hTwsjTzXvi"
   },
   "source": [
    "2.2 Answer: **\\*\\*TODO: Write Part 2.2 answer here\\*\\***\n",
    "\n",
    "Well there would be $V$ columns, one for each word. And $V^{N-1}$ rows, one for each possible combination of words from the corpus. Hence, the total number of entries would be $V^N$."
   ]
  },
  {
   "cell_type": "markdown",
   "metadata": {
    "id": "xDU6LrF-zX1v"
   },
   "source": [
    "\n",
    "## 2.3. Comparing neural network and $n$-gram model scaling \\[0pt\\]\n",
    "How do the parameters in the neural network model scale with the number of context words $N$ versus how the number of entries in the $n$-gram model scale with $N$? [0pt]"
   ]
  },
  {
   "cell_type": "markdown",
   "metadata": {
    "id": "IVJSp7gFzYa3"
   },
   "source": [
    "2.3 Answer: **\\*\\*TODO: Write Part 2.3 answer here\\*\\***"
   ]
  },
  {
   "cell_type": "markdown",
   "metadata": {
    "id": "C8FZTyrzlCNl"
   },
   "source": [
    "# Part 3: Training the model (3pts)\n"
   ]
  },
  {
   "cell_type": "markdown",
   "metadata": {
    "id": "ua0qkOH1tqHw"
   },
   "source": [
    "In this part, you will learn to implement and train the neural language model from Figure 1. As described in the previous section, during training, we randomly sample one of the $N$ context words to replace with a `[MASK]` token. The goal is for the network to predict the word that was masked, at the corresponding output word position. In practice, this `[MASK]` token is assigned the index 0 in our dictionary. The weights $W^{(2)}$ = `hid_to_output_weights` now has the shape $NV \\times H$, as the output layer has $NV$ neurons, where the first $V$ output units are for predicting the first word, then the next $V$ are for predicting the second word, and so on. \n",
    "        We call this as *concatenating* output units across all word positions, i.e. the $(v + nV)$-th column is for the word $v$ in vocabulary for the $n$-th output word position. \n",
    "        Note here that the softmax is applied in chunks of $V$ as well, to give a valid probability distribution over the $V$ words (For simplicity we also include the `[MASK]` token as one of the possible prediction even though we know the target should not be this token). Only the output word positions that were masked in the input are included in the cross entropy loss calculation:\n",
    "\n",
    "$$C = -\\sum_{i}^{B}\\sum_{n}^{N}\\sum_{v}^{V} m^{(i)}_{n} (t^{(i)}_{v + nV} \\log y^{(i)}_{v + nV})$$\n",
    "\n",
    "Where:\n",
    "*  $y^{(i)}_{v + nV}$ denotes the output probability prediction from the neural network for the $i$-th training example for the word $v$ in the $n$-th output word. Denoting $z$ as the logits output, we define the output probability $y$ as a softmax on $z$ over contiguous chunks of $V$ units (see also Figure 1): \n",
    "\n",
    "$$y^{(i)}_{v + nV} = \\frac{e^{z^{(i)}_{v+nV}}}{\\sum_{l}^{V} e^{z^{(i)}_{l+nV}}}$$\n",
    "* $t^{(i)}_{v + nV}  \\in \\{0,1\\}$ is 1 if for the $i$-th training example, the word $v$ is the $n$-th word in context\n",
    "* $m^{(i)}_{n} \\in \\{0,1\\}$ is a mask that is set to 1 if we are predicting the $n$-th word position for the $i$-th example (because we had masked that word in the input), and 0 otherwise\n",
    "\n",
    "There are three classes defined in this part: `Params`, `Activations`, `Model`.\n",
    "You will make changes to `Model`, but it may help to read through `Params` and `Activations` first."
   ]
  },
  {
   "cell_type": "code",
   "execution_count": 23,
   "metadata": {
    "id": "EfGEjB3QLNXf"
   },
   "outputs": [],
   "source": [
    "class Params(object):\n",
    "    \"\"\"A class representing the trainable parameters of the model. This class has five fields:\n",
    "    \n",
    "           word_embedding_weights, a matrix of size V x D, where V is the number of words in the vocabulary\n",
    "                   and D is the embedding dimension.\n",
    "           embed_to_hid_weights, a matrix of size H x ND, where H is the number of hidden units. The first D\n",
    "                   columns represent connections from the embedding of the first context word, the next D columns\n",
    "                   for the second context word, and so on. There are N context words.\n",
    "           hid_bias, a vector of length H\n",
    "           hid_to_output_weights, a matrix of size NV x H\n",
    "           output_bias, a vector of length NV\"\"\"\n",
    "\n",
    "    def __init__(self, word_embedding_weights, embed_to_hid_weights, hid_to_output_weights,\n",
    "                 hid_bias, output_bias):\n",
    "        self.word_embedding_weights = word_embedding_weights\n",
    "        self.embed_to_hid_weights = embed_to_hid_weights\n",
    "        self.hid_to_output_weights = hid_to_output_weights\n",
    "        self.hid_bias = hid_bias\n",
    "        self.output_bias = output_bias\n",
    "\n",
    "    def copy(self):\n",
    "        return self.__class__(self.word_embedding_weights.copy(), self.embed_to_hid_weights.copy(),\n",
    "                              self.hid_to_output_weights.copy(), self.hid_bias.copy(), self.output_bias.copy())\n",
    "\n",
    "    @classmethod\n",
    "    def zeros(cls, vocab_size, context_len, embedding_dim, num_hid):\n",
    "        \"\"\"A constructor which initializes all weights and biases to 0.\"\"\"\n",
    "        word_embedding_weights = np.zeros((vocab_size, embedding_dim))\n",
    "        embed_to_hid_weights = np.zeros((num_hid, context_len * embedding_dim))\n",
    "        hid_to_output_weights = np.zeros((vocab_size * context_len, num_hid))\n",
    "        hid_bias = np.zeros(num_hid)\n",
    "        output_bias = np.zeros(vocab_size * context_len)\n",
    "        return cls(word_embedding_weights, embed_to_hid_weights, hid_to_output_weights,\n",
    "                   hid_bias, output_bias)\n",
    "\n",
    "    @classmethod\n",
    "    def random_init(cls, init_wt, vocab_size, context_len, embedding_dim, num_hid):\n",
    "        \"\"\"A constructor which initializes weights to small random values and biases to 0.\"\"\"\n",
    "        word_embedding_weights = np.random.normal(0., init_wt, size=(vocab_size, embedding_dim))\n",
    "        embed_to_hid_weights = np.random.normal(0., init_wt, size=(num_hid, context_len * embedding_dim))\n",
    "        hid_to_output_weights = np.random.normal(0., init_wt, size=(vocab_size * context_len, num_hid))\n",
    "        hid_bias = np.zeros(num_hid)\n",
    "        output_bias = np.zeros(vocab_size * context_len)\n",
    "        return cls(word_embedding_weights, embed_to_hid_weights, hid_to_output_weights,\n",
    "                   hid_bias, output_bias)\n",
    "\n",
    "    ###### The functions below are Python's somewhat oddball way of overloading operators, so that\n",
    "    ###### we can do arithmetic on Params instances. You don't need to understand this to do the assignment.\n",
    "\n",
    "    def __mul__(self, a):\n",
    "        return self.__class__(a * self.word_embedding_weights,\n",
    "                              a * self.embed_to_hid_weights,\n",
    "                              a * self.hid_to_output_weights,\n",
    "                              a * self.hid_bias,\n",
    "                              a * self.output_bias)\n",
    "\n",
    "    def __rmul__(self, a):\n",
    "        return self * a\n",
    "\n",
    "    def __add__(self, other):\n",
    "        return self.__class__(self.word_embedding_weights + other.word_embedding_weights,\n",
    "                              self.embed_to_hid_weights + other.embed_to_hid_weights,\n",
    "                              self.hid_to_output_weights + other.hid_to_output_weights,\n",
    "                              self.hid_bias + other.hid_bias,\n",
    "                              self.output_bias + other.output_bias)\n",
    "\n",
    "    def __sub__(self, other):\n",
    "        return self + -1. * other"
   ]
  },
  {
   "cell_type": "code",
   "execution_count": 24,
   "metadata": {
    "id": "k6XFQUPsLSi7"
   },
   "outputs": [],
   "source": [
    "class Activations(object):\n",
    "    \"\"\"A class representing the activations of the units in the network. This class has three fields:\n",
    "\n",
    "        embedding_layer, a matrix of B x ND matrix (where B is the batch size, D is the embedding dimension,\n",
    "                and N is the number of input context words), representing the activations for the embedding \n",
    "                layer on all the cases in a batch. The first D columns represent the embeddings for the \n",
    "                first context word, and so on.\n",
    "        hidden_layer, a B x H matrix representing the hidden layer activations for a batch\n",
    "        output_layer, a B x V matrix representing the output layer activations for a batch\"\"\"\n",
    "\n",
    "    def __init__(self, embedding_layer, hidden_layer, output_layer):\n",
    "        self.embedding_layer = embedding_layer\n",
    "        self.hidden_layer = hidden_layer\n",
    "        self.output_layer = output_layer\n",
    "\n",
    "def get_batches(inputs, batch_size, shuffle=True):\n",
    "    \"\"\"Divide a dataset (usually the training set) into mini-batches of a given size. This is a\n",
    "    'generator', i.e. something you can use in a for loop. You don't need to understand how it\n",
    "    works to do the assignment.\"\"\"\n",
    "\n",
    "    if inputs.shape[0] % batch_size != 0:\n",
    "        raise RuntimeError('The number of data points must be a multiple of the batch size.')\n",
    "    num_batches = inputs.shape[0] // batch_size\n",
    "\n",
    "    if shuffle:\n",
    "        idxs = np.random.permutation(inputs.shape[0])\n",
    "        inputs = inputs[idxs, :]\n",
    "\n",
    "    for m in range(num_batches):\n",
    "        yield inputs[m * batch_size:(m + 1) * batch_size, :]"
   ]
  },
  {
   "cell_type": "markdown",
   "metadata": {
    "id": "uuAXaDNll0lf"
   },
   "source": [
    "In this part of the assignment, you implement a method which computes the gradient using backpropagation.\n",
    "To start you out, the *Model* class contains several important methods used in training:\n",
    "\n",
    "\n",
    "*   `compute_activations` computes the activations of all units on a given input batch\n",
    "*   `compute_loss_derivative` computes the gradient with respect to the output logits $\\frac{\\partial C}{\\partial z}$\n",
    "*   `evaluate` computes the average cross-entropy loss for a given set of inputs and targets\n",
    "\n",
    "You will need to complete the implementation of two additional methods to complete the training, and print the outputs of the gradients. "
   ]
  },
  {
   "cell_type": "markdown",
   "metadata": {
    "id": "lVF5TxDgtqHx"
   },
   "source": [
    "## 3.1 Implement gradient with respect to output layer inputs [1pt]\n",
    "Implement a vectorized `compute_loss` function, which computes the total cross-entropy loss on a mini-batch according to Eq. 2. Look for the `## YOUR CODE HERE ##` comment for where to complete the code. The docstring provides a description of the inputs to the function. \n",
    "\n"
   ]
  },
  {
   "cell_type": "markdown",
   "metadata": {
    "id": "pyAoLfRPYZYx"
   },
   "source": [
    "## 3.2 Implement gradient with respect to parameters [1pt]\n",
    "`back_propagate` is the function which computes the gradient of the loss with respect to model parameters using backpropagation.\n",
    "It uses the derivatives computed by *compute_loss_derivative*.\n",
    "Some parts are already filled in for you, but you need to compute the matrices of derivatives for `embed_to_hid_weights`, `hid_bias`, `hid_to_output_weights`, and `output_bias`.\n",
    "These matrices have the same sizes as the parameter matrices (see previous section). These matrices have the same sizes as the parameter matrices. Look for the `## YOUR CODE HERE ##` comment for where to complete the code.\n",
    "\n",
    "In order to implement backpropagation efficiently, you need to express the computations in terms of matrix operations, rather than *for* loops.\n",
    "You should first work through the derivatives on pencil and paper.\n",
    "First, apply the chain rule to compute the derivatives with respect to individual units, weights, and biases.\n",
    "Next, take the formulas you've derived, and express them in matrix form.\n",
    "You should be able to express all of the required computations using only matrix multiplication, matrix transpose, and elementwise operations --- no *for* loops!\n",
    "If you want inspiration, read through the code for *Model.compute_activations* and try to understand how the matrix operations correspond to the computations performed by all the units in the network.\n",
    "\n",
    "*Hint: Your implementations should also be similar to* `hid_to_output_weights_grad`,`hid_bias_grad` *in the same function call*\n",
    " "
   ]
  },
  {
   "cell_type": "code",
   "execution_count": 25,
   "metadata": {
    "id": "0F4CTBipK9B6"
   },
   "outputs": [],
   "source": [
    "class Model(object):\n",
    "    \"\"\"A class representing the language model itself. This class contains various methods used in training\n",
    "    the model and visualizing the learned representations. It has two fields:\n",
    "\n",
    "        params, a Params instance which contains the model parameters\n",
    "        vocab, a list containing all the words in the dictionary; vocab[0] is the word with index\n",
    "               0, and so on.\"\"\"\n",
    "\n",
    "    def __init__(self, params, vocab):\n",
    "          \n",
    "\n",
    "        self.params = params\n",
    "        self.vocab = vocab\n",
    "\n",
    "        self.vocab_size = len(vocab)\n",
    "        self.embedding_dim = self.params.word_embedding_weights.shape[1]\n",
    "        self.embedding_layer_dim = self.params.embed_to_hid_weights.shape[1]\n",
    "        self.context_len = self.embedding_layer_dim // self.embedding_dim\n",
    "        self.num_hid = self.params.embed_to_hid_weights.shape[0]\n",
    "    \n",
    "\n",
    "    def copy(self):\n",
    "        return self.__class__(self.params.copy(), self.vocab[:])\n",
    "\n",
    "    @classmethod\n",
    "    def random_init(cls, init_wt, vocab, context_len, embedding_dim, num_hid):\n",
    "        \"\"\"Constructor which randomly initializes the weights to Gaussians with standard deviation init_wt\n",
    "        and initializes the biases to all zeros.\"\"\"\n",
    "        params = Params.random_init(init_wt, len(vocab), context_len, embedding_dim, num_hid)\n",
    "        return Model(params, vocab)\n",
    "\n",
    "    def indicator_matrix(self, targets, mask_zero_index=True):\n",
    "        \"\"\"Construct a matrix where the (v + n*V)th entry of row i is 1 if the n-th target word\n",
    "         for example i is v, and all other entries are 0.\n",
    "\n",
    "         Note: if the n-th target word index is 0, this corresponds to the [MASK] token,\n",
    "               and we set the entry to be 0. \n",
    "        \"\"\"\n",
    "        batch_size, context_len = targets.shape\n",
    "        expanded_targets = np.zeros((batch_size, context_len * len(self.vocab)))\n",
    "        offset = np.repeat((np.arange(context_len) * len(self.vocab))[np.newaxis, :], batch_size, axis=0) # [[0, V, 2V], [0, V, 2V], ...]\n",
    "        targets_offset = targets + offset\n",
    "\n",
    "        for c in range(context_len):\n",
    "          expanded_targets[np.arange(batch_size), targets_offset[:,c]] = 1.\n",
    "          if mask_zero_index:\n",
    "            # Note: Set the targets with index 0, V, 2V to be zero since it corresponds to the [MASK] token\n",
    "            expanded_targets[np.arange(batch_size), offset[:,c]] = 0. \n",
    "        return expanded_targets\n",
    "\n",
    "    def compute_loss_derivative(self, output_activations, expanded_target_batch, target_mask):\n",
    "        \"\"\"Compute the gradient of cross-entropy loss wrt output logits z\n",
    "        \n",
    "            For example:\n",
    "\n",
    "         [y_{0} ....  y_{V-1}] [y_{V}, ..., y_{2*V-1}] [y_{2*V} ... y_{i,3*V-1}] [y_{3*V} ... y_{i,4*V-1}] \n",
    "                  \n",
    "         Where for column v + n*V,\n",
    "\n",
    "            y_{v + n*V} = e^{z_{v + n*V}} / \\sum_{m=0}^{V-1} e^{z_{m + n*V}}, for n=0,...,N-1\n",
    "\n",
    "        This function should return a dC / dz matrix of size [batch_size x (vocab_size * context_len)],\n",
    "        where each row i in dC / dz has columns 0 to V-1 containing the gradient the 1st output \n",
    "        context word from i-th training example, then columns vocab_size to 2*vocab_size - 1 for the 2nd\n",
    "        output context word of the i-th training example, etc.\n",
    "        \n",
    "        C is the loss function summed acrossed all examples as well:\n",
    "\n",
    "            C = -\\sum_{i,j,n} mask_{i,n} (t_{i, j + n*V} log y_{i, j + n*V}), for j=0,...,V, and n=0,...,N\n",
    "\n",
    "        where mask_{i,n} = 1 if the i-th training example has n-th context word as the target, \n",
    "        otherwise mask_{i,n} = 0.\n",
    "        \n",
    "        Args:\n",
    "          output_activations: A [batch_size x (context_len * vocab_size)] matrix, \n",
    "              for the activations of the output layer, i.e. the y_j's.\n",
    "          expanded_target_batch: A [batch_size x (context_len * vocab_size)] matrix, \n",
    "              where expanded_target_batch[i,n*V:(n+1)*V] is the indicator vector for \n",
    "              the n-th context target word position, i.e. the (i, j + n*V) entry is 1 if the \n",
    "              i'th example, the context word at position n is j, and 0 otherwise.\n",
    "          target_mask: A [batch_size x context_len x 1] tensor, where target_mask[i,n] = 1 \n",
    "              if for the i'th example the n-th context word is a target position, otherwise 0\n",
    "        \n",
    "        Outputs:\n",
    "          loss_derivative: A [batch_size x (context_len * vocab_size)] matrix,\n",
    "              where loss_derivative[i,0:vocab_size] contains the gradient\n",
    "              dC / dz_0 for the i-th training example gradient for 1st output \n",
    "              context word, and loss_derivative[i,vocab_size:2*vocab_size] for \n",
    "              the 2nd output context word of the i-th training example, etc.\n",
    "        \"\"\"\n",
    "        # Reshape output_activations and expanded_target_batch and use broadcasting\n",
    "        output_activations_reshape = output_activations.reshape(-1, self.context_len, len(self.vocab))\n",
    "        expanded_target_batch_reshape = expanded_target_batch.reshape(-1, self.context_len, len(self.vocab))\n",
    "        gradient_masked_reshape =  target_mask * (output_activations_reshape - expanded_target_batch_reshape)\n",
    "        gradient_masked = gradient_masked_reshape.reshape(-1, self.context_len * len(self.vocab))\n",
    "        return gradient_masked\n",
    "\n",
    "    def compute_loss(self, output_activations, expanded_target_batch, target_mask):\n",
    "        \"\"\"Compute the total cross entropy loss over a mini-batch.\n",
    "\n",
    "        Args:\n",
    "          output_activations: [batch_size x (context_len * vocab_size)] matrix, \n",
    "                for the activations of the output layer, i.e. the y_j's.\n",
    "          expanded_target_batch: [batch_size (context_len * vocab_size)] matrix, \n",
    "                where expanded_target_batch[i,n*V:(n+1)*V] is the indicator vector for \n",
    "                the n-th context target word position, i.e. the (i, j + n*V) entry is 1 if the \n",
    "                i'th example, the context word at position n is j, and 0 otherwise. matrix obtained\n",
    "          target_mask: A [batch_size x context_len x 1] tensor, where target_mask[i,n,0] = 1 \n",
    "                if for the i'th example the n-th context word is a target position, otherwise 0\n",
    "        \n",
    "        Returns:\n",
    "          loss: a scalar for the  total cross entropy loss over the batch, \n",
    "                defined in Part 3\n",
    "        \"\"\"\n",
    "        ###########################   YOUR CODE HERE  ##############################\n",
    "        target_mask = np.squeeze(target_mask)\n",
    "        \n",
    "        new_target_mask = np.repeat(target_mask, self.vocab_size, axis = 1)\n",
    "\n",
    "        loss = -1 * np.sum(np.multiply(new_target_mask, np.multiply(np.log(output_activations), expanded_target_batch)))\n",
    "\n",
    "\n",
    "        ############################################################################\n",
    "        return loss\n",
    "\n",
    "    def compute_activations(self, inputs):\n",
    "        \"\"\"Compute the activations on a batch given the inputs. Returns an Activations instance.\n",
    "        You should try to read and understand this function, since this will give you clues for\n",
    "        how to implement back_propagate.\"\"\"\n",
    "\n",
    "        batch_size = inputs.shape[0]\n",
    "        if inputs.shape[1] != self.context_len:\n",
    "            raise RuntimeError('Dimension of the input vectors should be {}, but is instead {}'.format(\n",
    "                self.context_len, inputs.shape[1]))\n",
    "\n",
    "        # Embedding layer\n",
    "        # Look up the input word indices in the word_embedding_weights matrix\n",
    "        embedding_layer_state = self.params.word_embedding_weights[inputs.reshape([-1]), :].reshape([batch_size, self.embedding_layer_dim])\n",
    "\n",
    "        # Hidden layer\n",
    "        inputs_to_hid = np.dot(embedding_layer_state, self.params.embed_to_hid_weights.T) + \\\n",
    "                        self.params.hid_bias\n",
    "        # Apply logistic activation function\n",
    "        hidden_layer_state = 1. / (1. + np.exp(-inputs_to_hid))\n",
    "\n",
    "        # Output layer\n",
    "        inputs_to_softmax = np.dot(hidden_layer_state, self.params.hid_to_output_weights.T) + \\\n",
    "                            self.params.output_bias\n",
    "\n",
    "        # Subtract maximum.\n",
    "        # Remember that adding or subtracting the same constant from each input to a\n",
    "        # softmax unit does not affect the outputs. So subtract the maximum to\n",
    "        # make all inputs <= 0. This prevents overflows when computing their exponents.\n",
    "        inputs_to_softmax -= inputs_to_softmax.max(1).reshape((-1, 1))\n",
    "\n",
    "        # Take softmax along each V chunks in the output layer\n",
    "        output_layer_state = np.exp(inputs_to_softmax)\n",
    "        output_layer_state_shape = output_layer_state.shape\n",
    "        output_layer_state = output_layer_state.reshape((-1, self.context_len, len(self.vocab)))\n",
    "        output_layer_state /= output_layer_state.sum(axis=-1, keepdims=True) # Softmax along vocab of each target word\n",
    "        output_layer_state = output_layer_state.reshape(output_layer_state_shape) # Flatten back to 2D matrix\n",
    "\n",
    "        return Activations(embedding_layer_state, hidden_layer_state, output_layer_state)\n",
    "\n",
    "    def back_propagate(self, input_batch, activations, loss_derivative):\n",
    "        \"\"\"Compute the gradient of the loss function with respect to the trainable parameters\n",
    "        of the model.\n",
    "        \n",
    "        Part of this function is already completed, but you need to fill in the derivative\n",
    "        computations for hid_to_output_weights_grad, output_bias_grad, embed_to_hid_weights_grad,\n",
    "        and hid_bias_grad. See the documentation for the Params class for a description of what\n",
    "        these matrices represent.\n",
    "\n",
    "        Args: \n",
    "          input_batch: A [batch_size x context_length] matrix containing the \n",
    "              indices of the context words\n",
    "          activations: an Activations object representing the output of \n",
    "              Model.compute_activations\n",
    "          loss_derivative:  A [batch_size x (context_len * vocab_size)] matrix,\n",
    "              where loss_derivative[i,0:vocab_size] contains the gradient\n",
    "              dC / dz_0 for the i-th training example gradient for 1st output \n",
    "              context word, and loss_derivative[i,vocab_size:2*vocab_size] for \n",
    "              the 2nd output context word of the i-th training example, etc.\n",
    "              Obtained from calling compute_loss_derivative()\n",
    "          \n",
    "        Returns:\n",
    "          Params object containing the gradient for word_embedding_weights_grad, \n",
    "              embed_to_hid_weights_grad, hid_to_output_weights_grad,\n",
    "              hid_bias_grad, output_bias_grad  \n",
    "        \"\"\"\n",
    "\n",
    "        # The matrix with values dC / dz_j, where dz_j is the input to the jth hidden unit,\n",
    "        # i.e. h_j = 1 / (1 + e^{-z_j})\n",
    "\n",
    "        \n",
    "        hid_deriv = np.dot(loss_derivative, self.params.hid_to_output_weights) \\\n",
    "                    * activations.hidden_layer * (1. - activations.hidden_layer)\n",
    "        \n",
    "\n",
    "        #shape (100,128) 128 is probably the number of hidden layers\n",
    "\n",
    "        #so embed_to_hid_weights will be of dimension 128 by N (4)\n",
    "        \n",
    "        hid_to_output_weights_grad = np.dot(loss_derivative.T, activations.hidden_layer)\n",
    "\n",
    "        ###########################   YOUR CODE HERE  ##############################\n",
    "        output_bias_grad = loss_derivative.sum(0)\n",
    "        embed_to_hid_weights_grad = np.dot(hid_deriv.T, activations.embedding_layer)\n",
    "        ############################################################################\n",
    "        \n",
    "        hid_bias_grad = hid_deriv.sum(0)\n",
    "\n",
    "        # The matrix of derivatives for the embedding layer\n",
    "        embed_deriv = np.dot(hid_deriv, self.params.embed_to_hid_weights)\n",
    "\n",
    "        # Word Embedding Weights gradient\n",
    "        word_embedding_weights_grad = np.dot(self.indicator_matrix(input_batch.reshape([-1,1]), mask_zero_index=False).T, \n",
    "                                                 embed_deriv.reshape([-1, self.embedding_dim]))\n",
    "\n",
    "        return Params(word_embedding_weights_grad, embed_to_hid_weights_grad, hid_to_output_weights_grad,\n",
    "                      hid_bias_grad, output_bias_grad)\n",
    "\n",
    "    def sample_input_mask(self, batch_size):\n",
    "        \"\"\"Samples a binary mask for the inputs of size batch_size x context_len\n",
    "        For each row, at most one element will be 1.\n",
    "        \"\"\"\n",
    "        mask_idx = np.random.randint(self.context_len, size=(batch_size,))\n",
    "        mask = np.zeros((batch_size, self.context_len), dtype=np.int)# Convert to one hot B x N, B batch size, N context len\n",
    "        mask[np.arange(batch_size), mask_idx] = 1\n",
    "        return mask\n",
    "    \n",
    "    def evaluate(self, inputs, batch_size=100):\n",
    "        \"\"\"Compute the average cross-entropy over a dataset.\n",
    "\n",
    "            inputs: matrix of shape D x N\"\"\"\n",
    "\n",
    "        ndata = inputs.shape[0]\n",
    "\n",
    "        total = 0.\n",
    "        for input_batch in get_batches(inputs, batch_size):\n",
    "            mask = self.sample_input_mask(batch_size)\n",
    "            input_batch_masked = input_batch * (1 - mask)\n",
    "            activations = self.compute_activations(input_batch_masked)\n",
    "            expanded_target_batch = self.indicator_matrix(input_batch)\n",
    "            target_mask = np.expand_dims(mask, axis=2)\n",
    "            cross_entropy = self.compute_loss(activations.output_layer, expanded_target_batch, target_mask)\n",
    "            total += cross_entropy\n",
    "\n",
    "        return total / float(ndata)\n",
    "\n",
    "    def display_nearest_words(self, word, k=10):\n",
    "        \"\"\"List the k words nearest to a given word, along with their distances.\"\"\"\n",
    "\n",
    "        if word not in self.vocab:\n",
    "            print('Word \"{}\" not in vocabulary.'.format(word))\n",
    "            return\n",
    "\n",
    "        # Compute distance to every other word.\n",
    "        idx = self.vocab.index(word)\n",
    "        word_rep = self.params.word_embedding_weights[idx, :]\n",
    "        diff = self.params.word_embedding_weights - word_rep.reshape((1, -1))\n",
    "        distance = np.sqrt(np.sum(diff ** 2, axis=1))\n",
    "\n",
    "        # Sort by distance.\n",
    "        order = np.argsort(distance)\n",
    "        order = order[1:1 + k]  # The nearest word is the query word itself, skip that.\n",
    "        for i in order:\n",
    "            print('{}: {}'.format(self.vocab[i], distance[i]))\n",
    "\n",
    "    def word_distance(self, word1, word2):\n",
    "        \"\"\"Compute the distance between the vector representations of two words.\"\"\"\n",
    "\n",
    "        if word1 not in self.vocab:\n",
    "            raise RuntimeError('Word \"{}\" not in vocabulary.'.format(word1))\n",
    "        if word2 not in self.vocab:\n",
    "            raise RuntimeError('Word \"{}\" not in vocabulary.'.format(word2))\n",
    "\n",
    "        idx1, idx2 = self.vocab.index(word1), self.vocab.index(word2)\n",
    "        word_rep1 = self.params.word_embedding_weights[idx1, :]\n",
    "        word_rep2 = self.params.word_embedding_weights[idx2, :]\n",
    "        diff = word_rep1 - word_rep2\n",
    "        return np.sqrt(np.sum(diff ** 2))"
   ]
  },
  {
   "cell_type": "code",
   "execution_count": null,
   "metadata": {
    "id": "3s-TMk7hU0a5"
   },
   "outputs": [],
   "source": []
  },
  {
   "cell_type": "markdown",
   "metadata": {
    "id": "JbwZCTkboEhz"
   },
   "source": [
    "## 3.3 Print the gradients [1pt]\n",
    "\n",
    "To make your life easier, we have provided the routine `check_gradients`, which checks your gradients using finite differences.\n",
    "        You should make sure this check passes before continuing with the assignment. Once `check_gradients()` passes, call `print_gradients()` and include its output in your write-up. "
   ]
  },
  {
   "cell_type": "code",
   "execution_count": 26,
   "metadata": {
    "id": "B5soRTiRn6W4"
   },
   "outputs": [],
   "source": [
    "def relative_error(a, b):\n",
    "    return np.abs(a - b) / (np.abs(a) + np.abs(b))\n",
    "\n",
    "\n",
    "def check_output_derivatives(model, input_batch, target_batch, mask):\n",
    "    def softmax(z):\n",
    "        z = z.copy()\n",
    "        z -= z.max(-1, keepdims=True)\n",
    "        y = np.exp(z)\n",
    "        y /= y.sum(-1, keepdims=True)\n",
    "        return y\n",
    "\n",
    "    batch_size = input_batch.shape[0]\n",
    "    z = np.random.normal(size=(batch_size, model.context_len, model.vocab_size))\n",
    "    y = softmax(z).reshape((batch_size, model.context_len * model.vocab_size))\n",
    "    z = z.reshape((batch_size, model.context_len * model.vocab_size))\n",
    "\n",
    "    expanded_target_batch = model.indicator_matrix(target_batch)\n",
    "    target_mask = np.expand_dims(mask, axis=2)\n",
    "    loss_derivative = model.compute_loss_derivative(y, expanded_target_batch, target_mask)\n",
    "\n",
    "    if loss_derivative is None:\n",
    "        print('Loss derivative not implemented yet.')\n",
    "        return False\n",
    "\n",
    "    if loss_derivative.shape != (batch_size, model.vocab_size * model.context_len):\n",
    "        print('Loss derivative should be size {} but is actually {}.'.format(\n",
    "            (batch_size, model.vocab_size), loss_derivative.shape))\n",
    "        return False\n",
    "\n",
    "    def obj(z):\n",
    "        z = z.reshape((-1, model.context_len, model.vocab_size))\n",
    "        y = softmax(z).reshape((batch_size, model.context_len * model.vocab_size))\n",
    "        return model.compute_loss(y, expanded_target_batch, target_mask)\n",
    "\n",
    "    for count in range(1000):\n",
    "        i, j = np.random.randint(0, loss_derivative.shape[0]), np.random.randint(0, loss_derivative.shape[1])\n",
    "\n",
    "        z_plus = z.copy()\n",
    "        z_plus[i, j] += EPS\n",
    "        obj_plus = obj(z_plus)\n",
    "\n",
    "        z_minus = z.copy()\n",
    "        z_minus[i, j] -= EPS\n",
    "        obj_minus = obj(z_minus)\n",
    "\n",
    "        empirical = (obj_plus - obj_minus) / (2. * EPS)\n",
    "        rel = relative_error(empirical, loss_derivative[i, j])\n",
    "        if rel > 1e-4:\n",
    "            print('The loss derivative has a relative error of {}, which is too large.'.format(rel))\n",
    "            return False\n",
    "\n",
    "    print('The loss derivative looks OK.')\n",
    "    return True\n",
    "\n",
    "\n",
    "def check_param_gradient(model, param_name, input_batch, target_batch, mask):\n",
    "    activations = model.compute_activations(input_batch)\n",
    "    expanded_target_batch = model.indicator_matrix(target_batch)\n",
    "    target_mask = np.expand_dims(mask, axis=2)\n",
    "    loss_derivative = model.compute_loss_derivative(activations.output_layer, expanded_target_batch, target_mask)\n",
    "    param_gradient = model.back_propagate(input_batch, activations, loss_derivative)\n",
    "\n",
    "\n",
    "    def obj(model):\n",
    "        activations = model.compute_activations(input_batch)\n",
    "        return model.compute_loss(activations.output_layer, expanded_target_batch, target_mask)\n",
    "\n",
    "    dims = getattr(model.params, param_name).shape\n",
    "    is_matrix = (len(dims) == 2)\n",
    "\n",
    "    if getattr(param_gradient, param_name).shape != dims:\n",
    "        print('The gradient for {} should be size {} but is actually {}.'.format(\n",
    "            param_name, dims, getattr(param_gradient, param_name).shape))\n",
    "        return\n",
    "\n",
    "    for count in range(1000):\n",
    "        if is_matrix:\n",
    "            slc = np.random.randint(0, dims[0]), np.random.randint(0, dims[1])\n",
    "        else:\n",
    "            slc = np.random.randint(dims[0])\n",
    "\n",
    "        model_plus = model.copy()\n",
    "        getattr(model_plus.params, param_name)[slc] += EPS\n",
    "        obj_plus = obj(model_plus)\n",
    "\n",
    "        model_minus = model.copy()\n",
    "        getattr(model_minus.params, param_name)[slc] -= EPS\n",
    "        obj_minus = obj(model_minus)\n",
    "\n",
    "        empirical = (obj_plus - obj_minus) / (2. * EPS)\n",
    "        exact = getattr(param_gradient, param_name)[slc]\n",
    "        rel = relative_error(empirical, exact)\n",
    "        if rel > 5e-4:\n",
    "            print('The loss derivative has a relative error of {}, which is too large for param {}.'.format(rel, param_name))\n",
    "            return False\n",
    "\n",
    "    print('The gradient for {} looks OK.'.format(param_name))\n",
    "\n",
    "\n",
    "def load_partially_trained_model():\n",
    "    obj = pickle.load(open(PARTIALLY_TRAINED_MODEL, 'rb'))\n",
    "    params = Params(obj['word_embedding_weights'], obj['embed_to_hid_weights'],\n",
    "                                   obj['hid_to_output_weights'], obj['hid_bias'],\n",
    "                                   obj['output_bias'])\n",
    "    vocab = obj['vocab']\n",
    "    return Model(params, vocab)\n",
    "\n",
    "\n",
    "def check_gradients():\n",
    "    \"\"\"Check the computed gradients using finite differences.\"\"\"\n",
    "    np.random.seed(0)\n",
    "\n",
    "    np.seterr(all='ignore')  # suppress a warning which is harmless\n",
    "\n",
    "    model = load_partially_trained_model()\n",
    "    data_obj = pickle.load(open(data_location, 'rb'))\n",
    "    train_inputs = data_obj['train_inputs']\n",
    "    input_batch = train_inputs[:100, :]\n",
    "    mask = model.sample_input_mask(input_batch.shape[0])\n",
    "    input_batch_masked = input_batch * (1 - mask)\n",
    "    \n",
    "    if not check_output_derivatives(model, input_batch_masked, input_batch, mask):\n",
    "        return\n",
    "\n",
    "    for param_name in ['word_embedding_weights', 'embed_to_hid_weights', 'hid_to_output_weights',\n",
    "                       'hid_bias', 'output_bias']:\n",
    "        check_param_gradient(model, param_name, input_batch_masked, input_batch, mask)\n",
    "\n",
    "\n",
    "def print_gradients():\n",
    "    \"\"\"Print out certain derivatives for grading.\"\"\"\n",
    "    np.random.seed(0)\n",
    "\n",
    "    model = load_partially_trained_model()\n",
    "    data_obj = pickle.load(open(data_location, 'rb'))\n",
    "    train_inputs = data_obj['train_inputs']\n",
    "    input_batch = train_inputs[:100, :]\n",
    "\n",
    "    mask = model.sample_input_mask(input_batch.shape[0])\n",
    "    input_batch_masked = input_batch * (1 - mask)\n",
    "    activations = model.compute_activations(input_batch_masked)\n",
    "    expanded_target_batch = model.indicator_matrix(input_batch)\n",
    "    target_mask = np.expand_dims(mask, axis=2)\n",
    "    loss_derivative = model.compute_loss_derivative(activations.output_layer, expanded_target_batch, target_mask)\n",
    "    param_gradient = model.back_propagate(input_batch, activations, loss_derivative)\n",
    "\n",
    "    print('loss_derivative[46, 785]', loss_derivative[46, 785])\n",
    "    print('loss_derivative[46, 766]', loss_derivative[46, 766])\n",
    "    print('loss_derivative[5, 42]', loss_derivative[5, 42])\n",
    "    print('loss_derivative[5, 31]', loss_derivative[5, 31])\n",
    "    print()\n",
    "    print('param_gradient.word_embedding_weights[27, 2]', param_gradient.word_embedding_weights[27, 2])\n",
    "    print('param_gradient.word_embedding_weights[43, 3]', param_gradient.word_embedding_weights[43, 3])\n",
    "    print('param_gradient.word_embedding_weights[22, 4]', param_gradient.word_embedding_weights[22, 4])\n",
    "    print('param_gradient.word_embedding_weights[2, 5]', param_gradient.word_embedding_weights[2, 5])\n",
    "    print()\n",
    "    print('param_gradient.embed_to_hid_weights[10, 2]', param_gradient.embed_to_hid_weights[10, 2])\n",
    "    print('param_gradient.embed_to_hid_weights[15, 3]', param_gradient.embed_to_hid_weights[15, 3])\n",
    "    print('param_gradient.embed_to_hid_weights[30, 9]', param_gradient.embed_to_hid_weights[30, 9])\n",
    "    print('param_gradient.embed_to_hid_weights[35, 21]', param_gradient.embed_to_hid_weights[35, 21])\n",
    "    print()\n",
    "    print('param_gradient.hid_bias[10]', param_gradient.hid_bias[10])\n",
    "    print('param_gradient.hid_bias[20]', param_gradient.hid_bias[20])\n",
    "    print()\n",
    "    print('param_gradient.output_bias[0]', param_gradient.output_bias[0])\n",
    "    print('param_gradient.output_bias[1]', param_gradient.output_bias[1])\n",
    "    print('param_gradient.output_bias[2]', param_gradient.output_bias[2])\n",
    "    print('param_gradient.output_bias[3]', param_gradient.output_bias[3])\n"
   ]
  },
  {
   "cell_type": "code",
   "execution_count": 27,
   "metadata": {
    "colab": {
     "base_uri": "https://localhost:8080/"
    },
    "id": "6Tlficab3ZfJ",
    "outputId": "f4b17825-a5b7-4c2f-b5ae-2b0d7874467e"
   },
   "outputs": [
    {
     "name": "stderr",
     "output_type": "stream",
     "text": [
      "/Library/Frameworks/Python.framework/Versions/3.7/lib/python3.7/site-packages/ipykernel_launcher.py:228: DeprecationWarning: `np.int` is a deprecated alias for the builtin `int`. To silence this warning, use `int` by itself. Doing this will not modify any behavior and is safe. When replacing `np.int`, you may wish to use e.g. `np.int64` or `np.int32` to specify the precision. If you wish to review your current use, check the release note link for additional information.\n",
      "Deprecated in NumPy 1.20; for more details and guidance: https://numpy.org/devdocs/release/1.20.0-notes.html#deprecations\n"
     ]
    },
    {
     "name": "stdout",
     "output_type": "stream",
     "text": [
      "The loss derivative looks OK.\n",
      "The gradient for word_embedding_weights looks OK.\n",
      "The gradient for embed_to_hid_weights looks OK.\n",
      "The gradient for hid_to_output_weights looks OK.\n",
      "The gradient for hid_bias looks OK.\n",
      "The gradient for output_bias looks OK.\n"
     ]
    }
   ],
   "source": [
    "# Run this to check if your implement gradients matches the finite difference within tolerance\n",
    "# Note: this may take a few minutes to go through all the checks\n",
    "check_gradients()    \n",
    "\n",
    "\n",
    "\n",
    "\n",
    "\n"
   ]
  },
  {
   "cell_type": "code",
   "execution_count": 28,
   "metadata": {
    "colab": {
     "base_uri": "https://localhost:8080/"
    },
    "id": "1TCLl7v189SI",
    "outputId": "3251907b-e545-478a-cade-4222a9b659da"
   },
   "outputs": [
    {
     "name": "stdout",
     "output_type": "stream",
     "text": [
      "loss_derivative[46, 785] 0.7137561447745507\n",
      "loss_derivative[46, 766] -0.9661570033238931\n",
      "loss_derivative[5, 42] -0.0\n",
      "loss_derivative[5, 31] 0.0\n",
      "\n",
      "param_gradient.word_embedding_weights[27, 2] 0.0\n",
      "param_gradient.word_embedding_weights[43, 3] 0.011596892511489458\n",
      "param_gradient.word_embedding_weights[22, 4] -0.0222670623817297\n",
      "param_gradient.word_embedding_weights[2, 5] 0.0\n",
      "\n",
      "param_gradient.embed_to_hid_weights[10, 2] 0.3793257091930164\n",
      "param_gradient.embed_to_hid_weights[15, 3] 0.01604516132110917\n",
      "param_gradient.embed_to_hid_weights[30, 9] -0.4312854367997419\n",
      "param_gradient.embed_to_hid_weights[35, 21] 0.06679896665436337\n",
      "\n",
      "param_gradient.hid_bias[10] 0.023428803123345148\n",
      "param_gradient.hid_bias[20] -0.024370452378874197\n",
      "\n",
      "param_gradient.output_bias[0] 0.000970106146902794\n",
      "param_gradient.output_bias[1] 0.16868946274763222\n",
      "param_gradient.output_bias[2] 0.0051664774143909235\n",
      "param_gradient.output_bias[3] 0.15096226471814364\n"
     ]
    },
    {
     "name": "stderr",
     "output_type": "stream",
     "text": [
      "/Library/Frameworks/Python.framework/Versions/3.7/lib/python3.7/site-packages/ipykernel_launcher.py:228: DeprecationWarning: `np.int` is a deprecated alias for the builtin `int`. To silence this warning, use `int` by itself. Doing this will not modify any behavior and is safe. When replacing `np.int`, you may wish to use e.g. `np.int64` or `np.int32` to specify the precision. If you wish to review your current use, check the release note link for additional information.\n",
      "Deprecated in NumPy 1.20; for more details and guidance: https://numpy.org/devdocs/release/1.20.0-notes.html#deprecations\n"
     ]
    }
   ],
   "source": [
    "# Run this to print out the gradients\n",
    "print_gradients()"
   ]
  },
  {
   "cell_type": "markdown",
   "metadata": {
    "id": "qtC-br-N5xGT"
   },
   "source": [
    "## 3.4 Run model training [0pt]\n",
    "\n",
    "Once you've implemented the gradient computation, you'll need to train the model.\n",
    "The function *train* implements the main training procedure.\n",
    "It takes two arguments:\n",
    "\n",
    "\n",
    "*   `embedding_dim`: The number of dimensions in the distributed representation.\n",
    "*   `num_hid`: The number of hidden units\n",
    "\n",
    "\n",
    "As the model trains, the script prints out some numbers that tell you how well the training is going.\n",
    "It shows:\n",
    "\n",
    "\n",
    "*   The cross entropy on the last 100 mini-batches of the training set. This is shown after every 100 mini-batches.\n",
    "*   The cross entropy on the entire validation set every 1000 mini-batches of training.\n",
    "\n",
    "At the end of training, this function shows the cross entropies on the training, validation and test sets.\n",
    "It will return a *Model* instance."
   ]
  },
  {
   "cell_type": "code",
   "execution_count": 29,
   "metadata": {
    "id": "akBYJQOdLfaF"
   },
   "outputs": [],
   "source": [
    "_train_inputs = None\n",
    "_train_targets = None\n",
    "_vocab = None\n",
    "\n",
    "DEFAULT_TRAINING_CONFIG = {'batch_size': 100,  # the size of a mini-batch\n",
    "                           'learning_rate': 0.1,  # the learning rate\n",
    "                           'momentum': 0.9,  # the decay parameter for the momentum vector\n",
    "                           'epochs': 50,  # the maximum number of epochs to run\n",
    "                           'init_wt': 0.01,  # the standard deviation of the initial random weights\n",
    "                           'context_len': 4,  # the number of context words used\n",
    "                           'show_training_CE_after': 100,  # measure training error after this many mini-batches\n",
    "                           'show_validation_CE_after': 1000,  # measure validation error after this many mini-batches\n",
    "                           }\n",
    "\n",
    "\n",
    "def find_occurrences(word1, word2, word3):\n",
    "    \"\"\"Lists all the words that followed a given tri-gram in the training set and the number of\n",
    "    times each one followed it.\"\"\"\n",
    "\n",
    "    # cache the data so we don't keep reloading\n",
    "    global _train_inputs, _train_targets, _vocab\n",
    "    if _train_inputs is None:\n",
    "        data_obj = pickle.load(open(data_location, 'rb'))\n",
    "        _vocab = data_obj['vocab']\n",
    "        _train_inputs, _train_targets = data_obj['train_inputs'], data_obj['train_targets']\n",
    "\n",
    "    if word1 not in _vocab:\n",
    "        raise RuntimeError('Word \"{}\" not in vocabulary.'.format(word1))\n",
    "    if word2 not in _vocab:\n",
    "        raise RuntimeError('Word \"{}\" not in vocabulary.'.format(word2))\n",
    "    if word3 not in _vocab:\n",
    "        raise RuntimeError('Word \"{}\" not in vocabulary.'.format(word3))\n",
    "\n",
    "    idx1, idx2, idx3 = _vocab.index(word1), _vocab.index(word2), _vocab.index(word3)\n",
    "    idxs = np.array([idx1, idx2, idx3])\n",
    "\n",
    "    matches = np.all(_train_inputs == idxs.reshape((1, -1)), 1)\n",
    "\n",
    "    if np.any(matches):\n",
    "        counts = collections.defaultdict(int)\n",
    "        for m in np.where(matches)[0]:\n",
    "            counts[_vocab[_train_targets[m]]] += 1\n",
    "\n",
    "        word_counts = sorted(list(counts.items()), key=lambda t: t[1], reverse=True)\n",
    "        print('The tri-gram \"{} {} {}\" was followed by the following words in the training set:'.format(\n",
    "            word1, word2, word3))\n",
    "        for word, count in word_counts:\n",
    "            if count > 1:\n",
    "                print('    {} ({} times)'.format(word, count))\n",
    "            else:\n",
    "                print('    {} (1 time)'.format(word))\n",
    "    else:\n",
    "        print('The tri-gram \"{} {} {}\" did not occur in the training set.'.format(word1, word2, word3))\n",
    "\n",
    "\n",
    "def train(embedding_dim, num_hid, config=DEFAULT_TRAINING_CONFIG):\n",
    "    \"\"\"This is the main training routine for the language model. It takes two parameters:\n",
    "\n",
    "        embedding_dim, the dimension of the embedding space\n",
    "        num_hid, the number of hidden units.\"\"\"\n",
    "    # For reproducibility\n",
    "    np.random.seed(123)\n",
    "\n",
    "    # Load the data\n",
    "    data_obj = pickle.load(open(data_location, 'rb'))\n",
    "    vocab = data_obj['vocab']\n",
    "    train_inputs = data_obj['train_inputs']\n",
    "    valid_inputs = data_obj['valid_inputs']\n",
    "    test_inputs = data_obj['test_inputs']\n",
    "\n",
    "    # Randomly initialize the trainable parameters\n",
    "    model = Model.random_init(config['init_wt'], vocab, config['context_len'], embedding_dim, num_hid)\n",
    "\n",
    "    # Variables used for early stopping\n",
    "    best_valid_CE = np.infty\n",
    "    end_training = False\n",
    "\n",
    "    # Initialize the momentum vector to all zeros\n",
    "    delta = Params.zeros(len(vocab), config['context_len'], embedding_dim, num_hid)\n",
    "\n",
    "    this_chunk_CE = 0.\n",
    "    batch_count = 0\n",
    "    for epoch in range(1, config['epochs'] + 1):\n",
    "        if end_training:\n",
    "            break\n",
    "\n",
    "        print()\n",
    "        print('Epoch', epoch)\n",
    "\n",
    "        for m, (input_batch) in enumerate(get_batches(train_inputs, config['batch_size'])):\n",
    "            batch_count += 1\n",
    "\n",
    "            # For each example (row in input_batch), select one word to mask out\n",
    "            mask = model.sample_input_mask(config['batch_size'])\n",
    "            input_batch_masked = input_batch * (1 - mask) # We only zero out one word per row\n",
    "\n",
    "            # Forward propagate\n",
    "            activations = model.compute_activations(input_batch_masked)\n",
    "\n",
    "            # Compute loss derivative            \n",
    "            expanded_target_batch = model.indicator_matrix(input_batch)\n",
    "            loss_derivative = model.compute_loss_derivative(activations.output_layer, expanded_target_batch, mask[:,:, np.newaxis])\n",
    "            loss_derivative /= config['batch_size']\n",
    "\n",
    "            # Measure loss function\n",
    "            cross_entropy = model.compute_loss(activations.output_layer, expanded_target_batch, np.expand_dims(mask, axis=2)) / config['batch_size']\n",
    "            this_chunk_CE += cross_entropy\n",
    "            if batch_count % config['show_training_CE_after'] == 0:\n",
    "                print('Batch {} Train CE {:1.3f}'.format(\n",
    "                    batch_count, this_chunk_CE / config['show_training_CE_after']))\n",
    "                this_chunk_CE = 0.\n",
    "\n",
    "            # Backpropagate\n",
    "            loss_gradient = model.back_propagate(input_batch, activations, loss_derivative)\n",
    "\n",
    "            # Update the momentum vector and model parameters\n",
    "            delta = config['momentum'] * delta + loss_gradient\n",
    "            model.params -= config['learning_rate'] * delta\n",
    "\n",
    "            # Validate\n",
    "            if batch_count % config['show_validation_CE_after'] == 0:\n",
    "                print('Running validation...')\n",
    "                cross_entropy = model.evaluate(valid_inputs)\n",
    "                print('Validation cross-entropy: {:1.3f}'.format(cross_entropy))\n",
    "\n",
    "                if cross_entropy > best_valid_CE:\n",
    "                    print('Validation error increasing!  Training stopped.')\n",
    "                    end_training = True\n",
    "                    break\n",
    "\n",
    "                best_valid_CE = cross_entropy\n",
    "\n",
    "    print()\n",
    "    train_CE = model.evaluate(train_inputs)\n",
    "    print('Final training cross-entropy: {:1.3f}'.format(train_CE))\n",
    "    valid_CE = model.evaluate(valid_inputs)\n",
    "    print('Final validation cross-entropy: {:1.3f}'.format(valid_CE))\n",
    "    test_CE = model.evaluate(test_inputs)\n",
    "    print('Final test cross-entropy: {:1.3f}'.format(test_CE))\n",
    "\n",
    "    return model"
   ]
  },
  {
   "cell_type": "markdown",
   "metadata": {
    "id": "ZX-g3K-F55h7"
   },
   "source": [
    "Run the training.\n"
   ]
  },
  {
   "cell_type": "code",
   "execution_count": 30,
   "metadata": {
    "id": "BwlRG7j8LmIM"
   },
   "outputs": [
    {
     "name": "stdout",
     "output_type": "stream",
     "text": [
      "\n",
      "Epoch 1\n"
     ]
    },
    {
     "name": "stderr",
     "output_type": "stream",
     "text": [
      "/Library/Frameworks/Python.framework/Versions/3.7/lib/python3.7/site-packages/ipykernel_launcher.py:228: DeprecationWarning: `np.int` is a deprecated alias for the builtin `int`. To silence this warning, use `int` by itself. Doing this will not modify any behavior and is safe. When replacing `np.int`, you may wish to use e.g. `np.int64` or `np.int32` to specify the precision. If you wish to review your current use, check the release note link for additional information.\n",
      "Deprecated in NumPy 1.20; for more details and guidance: https://numpy.org/devdocs/release/1.20.0-notes.html#deprecations\n"
     ]
    },
    {
     "name": "stdout",
     "output_type": "stream",
     "text": [
      "Batch 100 Train CE 4.793\n",
      "Batch 200 Train CE 4.645\n",
      "Batch 300 Train CE 4.649\n",
      "Batch 400 Train CE 4.629\n",
      "Batch 500 Train CE 4.633\n",
      "Batch 600 Train CE 4.648\n",
      "Batch 700 Train CE 4.617\n",
      "Batch 800 Train CE 4.607\n",
      "Batch 900 Train CE 4.606\n",
      "Batch 1000 Train CE 4.615\n",
      "Running validation...\n",
      "Validation cross-entropy: 4.615\n",
      "Batch 1100 Train CE 4.615\n",
      "Batch 1200 Train CE 4.624\n",
      "Batch 1300 Train CE 4.608\n",
      "Batch 1400 Train CE 4.595\n",
      "Batch 1500 Train CE 4.611\n",
      "Batch 1600 Train CE 4.598\n",
      "Batch 1700 Train CE 4.577\n",
      "Batch 1800 Train CE 4.578\n",
      "Batch 1900 Train CE 4.568\n",
      "Batch 2000 Train CE 4.589\n",
      "Running validation...\n",
      "Validation cross-entropy: 4.589\n",
      "Batch 2100 Train CE 4.573\n",
      "Batch 2200 Train CE 4.611\n",
      "Batch 2300 Train CE 4.562\n",
      "Batch 2400 Train CE 4.587\n",
      "Batch 2500 Train CE 4.589\n",
      "Batch 2600 Train CE 4.587\n",
      "Batch 2700 Train CE 4.561\n",
      "Batch 2800 Train CE 4.544\n",
      "Batch 2900 Train CE 4.521\n",
      "Batch 3000 Train CE 4.524\n",
      "Running validation...\n",
      "Validation cross-entropy: 4.496\n",
      "Batch 3100 Train CE 4.504\n",
      "Batch 3200 Train CE 4.449\n",
      "Batch 3300 Train CE 4.384\n",
      "Batch 3400 Train CE 4.352\n",
      "Batch 3500 Train CE 4.324\n",
      "Batch 3600 Train CE 4.261\n",
      "Batch 3700 Train CE 4.267\n",
      "\n",
      "Epoch 2\n",
      "Batch 3800 Train CE 4.208\n",
      "Batch 3900 Train CE 4.168\n",
      "Batch 4000 Train CE 4.117\n",
      "Running validation...\n",
      "Validation cross-entropy: 4.112\n",
      "Batch 4100 Train CE 4.105\n",
      "Batch 4200 Train CE 4.049\n",
      "Batch 4300 Train CE 4.008\n",
      "Batch 4400 Train CE 3.986\n",
      "Batch 4500 Train CE 3.924\n",
      "Batch 4600 Train CE 3.897\n",
      "Batch 4700 Train CE 3.857\n",
      "Batch 4800 Train CE 3.790\n",
      "Batch 4900 Train CE 3.796\n",
      "Batch 5000 Train CE 3.773\n",
      "Running validation...\n",
      "Validation cross-entropy: 3.776\n",
      "Batch 5100 Train CE 3.766\n",
      "Batch 5200 Train CE 3.714\n",
      "Batch 5300 Train CE 3.720\n",
      "Batch 5400 Train CE 3.668\n",
      "Batch 5500 Train CE 3.668\n",
      "Batch 5600 Train CE 3.639\n",
      "Batch 5700 Train CE 3.571\n",
      "Batch 5800 Train CE 3.546\n",
      "Batch 5900 Train CE 3.537\n",
      "Batch 6000 Train CE 3.511\n",
      "Running validation...\n",
      "Validation cross-entropy: 3.531\n",
      "Batch 6100 Train CE 3.494\n",
      "Batch 6200 Train CE 3.495\n",
      "Batch 6300 Train CE 3.477\n",
      "Batch 6400 Train CE 3.455\n",
      "Batch 6500 Train CE 3.435\n",
      "Batch 6600 Train CE 3.446\n",
      "Batch 6700 Train CE 3.411\n",
      "Batch 6800 Train CE 3.376\n",
      "Batch 6900 Train CE 3.419\n",
      "Batch 7000 Train CE 3.375\n",
      "Running validation...\n",
      "Validation cross-entropy: 3.386\n",
      "Batch 7100 Train CE 3.398\n",
      "Batch 7200 Train CE 3.383\n",
      "Batch 7300 Train CE 3.371\n",
      "Batch 7400 Train CE 3.355\n",
      "\n",
      "Epoch 3\n",
      "Batch 7500 Train CE 3.320\n",
      "Batch 7600 Train CE 3.315\n",
      "Batch 7700 Train CE 3.342\n",
      "Batch 7800 Train CE 3.293\n",
      "Batch 7900 Train CE 3.285\n",
      "Batch 8000 Train CE 3.296\n",
      "Running validation...\n",
      "Validation cross-entropy: 3.294\n",
      "Batch 8100 Train CE 3.271\n",
      "Batch 8200 Train CE 3.291\n",
      "Batch 8300 Train CE 3.287\n",
      "Batch 8400 Train CE 3.274\n",
      "Batch 8500 Train CE 3.228\n",
      "Batch 8600 Train CE 3.256\n",
      "Batch 8700 Train CE 3.250\n",
      "Batch 8800 Train CE 3.256\n",
      "Batch 8900 Train CE 3.266\n",
      "Batch 9000 Train CE 3.221\n",
      "Running validation...\n",
      "Validation cross-entropy: 3.233\n",
      "Batch 9100 Train CE 3.247\n",
      "Batch 9200 Train CE 3.229\n",
      "Batch 9300 Train CE 3.223\n",
      "Batch 9400 Train CE 3.216\n",
      "Batch 9500 Train CE 3.208\n",
      "Batch 9600 Train CE 3.200\n",
      "Batch 9700 Train CE 3.199\n",
      "Batch 9800 Train CE 3.230\n",
      "Batch 9900 Train CE 3.184\n",
      "Batch 10000 Train CE 3.178\n",
      "Running validation...\n",
      "Validation cross-entropy: 3.176\n",
      "Batch 10100 Train CE 3.167\n",
      "Batch 10200 Train CE 3.166\n",
      "Batch 10300 Train CE 3.167\n",
      "Batch 10400 Train CE 3.202\n",
      "Batch 10500 Train CE 3.175\n",
      "Batch 10600 Train CE 3.175\n",
      "Batch 10700 Train CE 3.143\n",
      "Batch 10800 Train CE 3.177\n",
      "Batch 10900 Train CE 3.186\n",
      "Batch 11000 Train CE 3.104\n",
      "Running validation...\n",
      "Validation cross-entropy: 3.152\n",
      "Batch 11100 Train CE 3.159\n",
      "\n",
      "Epoch 4\n",
      "Batch 11200 Train CE 3.148\n",
      "Batch 11300 Train CE 3.136\n",
      "Batch 11400 Train CE 3.139\n",
      "Batch 11500 Train CE 3.151\n",
      "Batch 11600 Train CE 3.118\n",
      "Batch 11700 Train CE 3.126\n",
      "Batch 11800 Train CE 3.154\n",
      "Batch 11900 Train CE 3.111\n",
      "Batch 12000 Train CE 3.145\n",
      "Running validation...\n",
      "Validation cross-entropy: 3.114\n",
      "Batch 12100 Train CE 3.129\n",
      "Batch 12200 Train CE 3.130\n",
      "Batch 12300 Train CE 3.120\n",
      "Batch 12400 Train CE 3.101\n",
      "Batch 12500 Train CE 3.078\n",
      "Batch 12600 Train CE 3.137\n",
      "Batch 12700 Train CE 3.114\n",
      "Batch 12800 Train CE 3.128\n",
      "Batch 12900 Train CE 3.074\n",
      "Batch 13000 Train CE 3.112\n",
      "Running validation...\n",
      "Validation cross-entropy: 3.105\n",
      "Batch 13100 Train CE 3.110\n",
      "Batch 13200 Train CE 3.093\n",
      "Batch 13300 Train CE 3.096\n",
      "Batch 13400 Train CE 3.088\n",
      "Batch 13500 Train CE 3.072\n",
      "Batch 13600 Train CE 3.066\n",
      "Batch 13700 Train CE 3.084\n",
      "Batch 13800 Train CE 3.075\n",
      "Batch 13900 Train CE 3.084\n",
      "Batch 14000 Train CE 3.084\n",
      "Running validation...\n",
      "Validation cross-entropy: 3.091\n",
      "Batch 14100 Train CE 3.096\n",
      "Batch 14200 Train CE 3.110\n",
      "Batch 14300 Train CE 3.131\n",
      "Batch 14400 Train CE 3.086\n",
      "Batch 14500 Train CE 3.077\n",
      "Batch 14600 Train CE 3.134\n",
      "Batch 14700 Train CE 3.093\n",
      "Batch 14800 Train CE 3.071\n",
      "Batch 14900 Train CE 3.076\n",
      "\n",
      "Epoch 5\n",
      "Batch 15000 Train CE 3.041\n",
      "Running validation...\n",
      "Validation cross-entropy: 3.059\n",
      "Batch 15100 Train CE 3.093\n",
      "Batch 15200 Train CE 3.074\n",
      "Batch 15300 Train CE 3.096\n",
      "Batch 15400 Train CE 3.100\n",
      "Batch 15500 Train CE 3.056\n",
      "Batch 15600 Train CE 3.081\n",
      "Batch 15700 Train CE 3.082\n",
      "Batch 15800 Train CE 3.079\n",
      "Batch 15900 Train CE 3.072\n",
      "Batch 16000 Train CE 3.077\n",
      "Running validation...\n",
      "Validation cross-entropy: 3.073\n",
      "Validation error increasing!  Training stopped.\n",
      "\n",
      "Final training cross-entropy: 3.056\n",
      "Final validation cross-entropy: 3.063\n",
      "Final test cross-entropy: 3.068\n"
     ]
    }
   ],
   "source": [
    "embedding_dim = 16\n",
    "num_hid = 128\n",
    "trained_model = train(embedding_dim, num_hid)"
   ]
  },
  {
   "cell_type": "markdown",
   "metadata": {
    "id": "2FD5Om0ypNPe"
   },
   "source": [
    "To convince us that you have correctly implemented the gradient computations, please include the following with your assignment submission:\n",
    "\n",
    "* [ ] You will submit `a1-code.ipynb` through MarkUs.\n",
    "You do not need to modify any of the code except the parts we asked you to implement.\n",
    "* [ ] In your writeup, include the output of the function `print_gradients`.\n",
    "This prints out part of the gradients for a partially trained network which we have provided, and we will check them against the correct outputs. **Important:** make sure to give the output of `print_gradients`, **not** `check_gradients`.\n"
   ]
  },
  {
   "cell_type": "markdown",
   "metadata": {
    "id": "_VUBTt0ZQl3s"
   },
   "source": [
    "# Part 4: Bias in Word Embeddings (2pts)\n",
    "\n",
    "Unfortunately, stereotypes and prejudices are often reflected in the outputs of natural language processing algorithms. For example, Google Translate is more likely to translate a non-English sentence to \"_He_ is a doctor\" than \"_She_ is a doctor when the sentence is ambiguous. In this section, you will explore how bias enters natural language processing algorithms by implementing and analyzing a popular method for measuring bias in word embeddings.\n",
    "\n",
    "> Note: In AI and machine learning, **bias** generally refers to prior information, a necessary prerequisite for intelligent action. However, bias can be problematic when it is derived from aspects of human culture known to lead to harmful behaviour, such as stereotypes and prejudices."
   ]
  },
  {
   "cell_type": "markdown",
   "metadata": {
    "id": "-HlZw3-5Q5XJ"
   },
   "source": [
    "## 4.1 WEAT method for detecting bias [1pt]\n",
    "\n",
    "   Word embedding models such as GloVe attempt to learn a vector space where semantically similar words are clustered close together. However, they have been shown to learn problematic associations, e.g. by embedding \"man\" more closely to \"doctor\" than \"woman\" (and vice versa for \"nurse\"). To detect such biases in word embeddings, [\"Semantics derived automatically from language corpora contain human-like biases\"](https://www.science.org/doi/10.1126/science.aal4230) introduced the Word Embedding Association Test (WEAT). The WEAT test measures whether two _target_ word sets (e.g., {programmer, engineer, scientist, ...} and {nurse, teacher, librarian, ...}) have the same relative association to two _attribute_ word sets (e.g., man, male, ... and woman, female ...).\n",
    "   \n",
    "> There is an excellent blog on bias in word embeddings and the WEAT test [here](https://developers.googleblog.com/2018/04/text-embedding-models-contain-bias.html).\n",
    "\n",
    "In the following section, you will run a WEAT test for a given set of target and attribute words. Specifically, you must implement the function `weat_association_score` and then run the remaining cells to compute the p-value and effect size. Before you begin, make sure you understand the formal definition of the WEAT test given in section 4.1 of the handout.\n",
    "\n",
    "\n"
   ]
  },
  {
   "cell_type": "markdown",
   "metadata": {
    "id": "FMfmBOJnqNmJ"
   },
   "source": [
    "Run the following cell to download pretrained GloVe embeddings."
   ]
  },
  {
   "cell_type": "code",
   "execution_count": 38,
   "metadata": {
    "colab": {
     "base_uri": "https://localhost:8080/"
    },
    "collapsed": true,
    "id": "AI1hYohRQ-lz",
    "outputId": "cd3c390b-7421-4a83-bbb0-33e7464dd594"
   },
   "outputs": [
    {
     "ename": "JSONDecodeError",
     "evalue": "Expecting value: line 1 column 1 (char 0)",
     "output_type": "error",
     "traceback": [
      "\u001b[0;31m---------------------------------------------------------------------------\u001b[0m",
      "\u001b[0;31mJSONDecodeError\u001b[0m                           Traceback (most recent call last)",
      "\u001b[0;32m<ipython-input-38-c8e91ed33396>\u001b[0m in \u001b[0;36m<module>\u001b[0;34m\u001b[0m\n\u001b[1;32m      2\u001b[0m \u001b[0;31m#%mkdir -p /Users/kieranagterberg/gensim-data/information.json\u001b[0m\u001b[0;34m\u001b[0m\u001b[0;34m\u001b[0m\u001b[0m\n\u001b[1;32m      3\u001b[0m \u001b[0;34m\u001b[0m\u001b[0m\n\u001b[0;32m----> 4\u001b[0;31m \u001b[0mglove\u001b[0m \u001b[0;34m=\u001b[0m \u001b[0mapi\u001b[0m\u001b[0;34m.\u001b[0m\u001b[0mload\u001b[0m\u001b[0;34m(\u001b[0m\u001b[0;34m\"glove-wiki-gigaword-50\"\u001b[0m\u001b[0;34m)\u001b[0m\u001b[0;34m\u001b[0m\u001b[0m\n\u001b[0m\u001b[1;32m      5\u001b[0m \u001b[0mnum_words\u001b[0m\u001b[0;34m,\u001b[0m \u001b[0mnum_dims\u001b[0m \u001b[0;34m=\u001b[0m \u001b[0mglove\u001b[0m\u001b[0;34m.\u001b[0m\u001b[0mvectors\u001b[0m\u001b[0;34m.\u001b[0m\u001b[0mshape\u001b[0m\u001b[0;34m\u001b[0m\u001b[0m\n\u001b[1;32m      6\u001b[0m \u001b[0mprint\u001b[0m\u001b[0;34m(\u001b[0m\u001b[0;34mf\"Downloaded {num_words} word embeddings of dimension {num_dims}.\"\u001b[0m\u001b[0;34m)\u001b[0m\u001b[0;34m\u001b[0m\u001b[0m\n",
      "\u001b[0;32m/Library/Frameworks/Python.framework/Versions/3.7/lib/python3.7/site-packages/gensim/downloader.py\u001b[0m in \u001b[0;36mload\u001b[0;34m(name, return_path)\u001b[0m\n\u001b[1;32m    488\u001b[0m     \"\"\"\n\u001b[1;32m    489\u001b[0m     \u001b[0m_create_base_dir\u001b[0m\u001b[0;34m(\u001b[0m\u001b[0;34m)\u001b[0m\u001b[0;34m\u001b[0m\u001b[0m\n\u001b[0;32m--> 490\u001b[0;31m     \u001b[0mfile_name\u001b[0m \u001b[0;34m=\u001b[0m \u001b[0m_get_filename\u001b[0m\u001b[0;34m(\u001b[0m\u001b[0mname\u001b[0m\u001b[0;34m)\u001b[0m\u001b[0;34m\u001b[0m\u001b[0m\n\u001b[0m\u001b[1;32m    491\u001b[0m     \u001b[0;32mif\u001b[0m \u001b[0mfile_name\u001b[0m \u001b[0;32mis\u001b[0m \u001b[0;32mNone\u001b[0m\u001b[0;34m:\u001b[0m\u001b[0;34m\u001b[0m\u001b[0m\n\u001b[1;32m    492\u001b[0m         \u001b[0;32mraise\u001b[0m \u001b[0mValueError\u001b[0m\u001b[0;34m(\u001b[0m\u001b[0;34m\"Incorrect model/corpus name\"\u001b[0m\u001b[0;34m)\u001b[0m\u001b[0;34m\u001b[0m\u001b[0m\n",
      "\u001b[0;32m/Library/Frameworks/Python.framework/Versions/3.7/lib/python3.7/site-packages/gensim/downloader.py\u001b[0m in \u001b[0;36m_get_filename\u001b[0;34m(name)\u001b[0m\n\u001b[1;32m    424\u001b[0m \u001b[0;34m\u001b[0m\u001b[0m\n\u001b[1;32m    425\u001b[0m     \"\"\"\n\u001b[0;32m--> 426\u001b[0;31m     \u001b[0minformation\u001b[0m \u001b[0;34m=\u001b[0m \u001b[0minfo\u001b[0m\u001b[0;34m(\u001b[0m\u001b[0;34m)\u001b[0m\u001b[0;34m\u001b[0m\u001b[0m\n\u001b[0m\u001b[1;32m    427\u001b[0m     \u001b[0mcorpora\u001b[0m \u001b[0;34m=\u001b[0m \u001b[0minformation\u001b[0m\u001b[0;34m[\u001b[0m\u001b[0;34m'corpora'\u001b[0m\u001b[0;34m]\u001b[0m\u001b[0;34m\u001b[0m\u001b[0m\n\u001b[1;32m    428\u001b[0m     \u001b[0mmodels\u001b[0m \u001b[0;34m=\u001b[0m \u001b[0minformation\u001b[0m\u001b[0;34m[\u001b[0m\u001b[0;34m'models'\u001b[0m\u001b[0;34m]\u001b[0m\u001b[0;34m\u001b[0m\u001b[0m\n",
      "\u001b[0;32m/Library/Frameworks/Python.framework/Versions/3.7/lib/python3.7/site-packages/gensim/downloader.py\u001b[0m in \u001b[0;36minfo\u001b[0;34m(name, show_only_latest, name_only)\u001b[0m\n\u001b[1;32m    266\u001b[0m \u001b[0;34m\u001b[0m\u001b[0m\n\u001b[1;32m    267\u001b[0m     \"\"\"\n\u001b[0;32m--> 268\u001b[0;31m     \u001b[0minformation\u001b[0m \u001b[0;34m=\u001b[0m \u001b[0m_load_info\u001b[0m\u001b[0;34m(\u001b[0m\u001b[0;34m)\u001b[0m\u001b[0;34m\u001b[0m\u001b[0m\n\u001b[0m\u001b[1;32m    269\u001b[0m \u001b[0;34m\u001b[0m\u001b[0m\n\u001b[1;32m    270\u001b[0m     \u001b[0;32mif\u001b[0m \u001b[0mname\u001b[0m \u001b[0;32mis\u001b[0m \u001b[0;32mnot\u001b[0m \u001b[0;32mNone\u001b[0m\u001b[0;34m:\u001b[0m\u001b[0;34m\u001b[0m\u001b[0m\n",
      "\u001b[0;32m/Library/Frameworks/Python.framework/Versions/3.7/lib/python3.7/site-packages/gensim/downloader.py\u001b[0m in \u001b[0;36m_load_info\u001b[0;34m(url, encoding)\u001b[0m\n\u001b[1;32m    218\u001b[0m         \u001b[0;31m#\u001b[0m\u001b[0;34m\u001b[0m\u001b[0;34m\u001b[0m\u001b[0m\n\u001b[1;32m    219\u001b[0m         \u001b[0;32mwith\u001b[0m \u001b[0mio\u001b[0m\u001b[0;34m.\u001b[0m\u001b[0mopen\u001b[0m\u001b[0;34m(\u001b[0m\u001b[0mcache_path\u001b[0m\u001b[0;34m,\u001b[0m \u001b[0;34m'r'\u001b[0m\u001b[0;34m,\u001b[0m \u001b[0mencoding\u001b[0m\u001b[0;34m=\u001b[0m\u001b[0mencoding\u001b[0m\u001b[0;34m)\u001b[0m \u001b[0;32mas\u001b[0m \u001b[0mfin\u001b[0m\u001b[0;34m:\u001b[0m\u001b[0;34m\u001b[0m\u001b[0m\n\u001b[0;32m--> 220\u001b[0;31m             \u001b[0;32mreturn\u001b[0m \u001b[0mjson\u001b[0m\u001b[0;34m.\u001b[0m\u001b[0mload\u001b[0m\u001b[0;34m(\u001b[0m\u001b[0mfin\u001b[0m\u001b[0;34m)\u001b[0m\u001b[0;34m\u001b[0m\u001b[0m\n\u001b[0m\u001b[1;32m    221\u001b[0m     \u001b[0;32mexcept\u001b[0m \u001b[0mIOError\u001b[0m\u001b[0;34m:\u001b[0m\u001b[0;34m\u001b[0m\u001b[0m\n\u001b[1;32m    222\u001b[0m         raise ValueError(\n",
      "\u001b[0;32m/Library/Frameworks/Python.framework/Versions/3.7/lib/python3.7/json/__init__.py\u001b[0m in \u001b[0;36mload\u001b[0;34m(fp, cls, object_hook, parse_float, parse_int, parse_constant, object_pairs_hook, **kw)\u001b[0m\n\u001b[1;32m    294\u001b[0m         \u001b[0mcls\u001b[0m\u001b[0;34m=\u001b[0m\u001b[0mcls\u001b[0m\u001b[0;34m,\u001b[0m \u001b[0mobject_hook\u001b[0m\u001b[0;34m=\u001b[0m\u001b[0mobject_hook\u001b[0m\u001b[0;34m,\u001b[0m\u001b[0;34m\u001b[0m\u001b[0m\n\u001b[1;32m    295\u001b[0m         \u001b[0mparse_float\u001b[0m\u001b[0;34m=\u001b[0m\u001b[0mparse_float\u001b[0m\u001b[0;34m,\u001b[0m \u001b[0mparse_int\u001b[0m\u001b[0;34m=\u001b[0m\u001b[0mparse_int\u001b[0m\u001b[0;34m,\u001b[0m\u001b[0;34m\u001b[0m\u001b[0m\n\u001b[0;32m--> 296\u001b[0;31m         parse_constant=parse_constant, object_pairs_hook=object_pairs_hook, **kw)\n\u001b[0m\u001b[1;32m    297\u001b[0m \u001b[0;34m\u001b[0m\u001b[0m\n\u001b[1;32m    298\u001b[0m \u001b[0;34m\u001b[0m\u001b[0m\n",
      "\u001b[0;32m/Library/Frameworks/Python.framework/Versions/3.7/lib/python3.7/json/__init__.py\u001b[0m in \u001b[0;36mloads\u001b[0;34m(s, encoding, cls, object_hook, parse_float, parse_int, parse_constant, object_pairs_hook, **kw)\u001b[0m\n\u001b[1;32m    346\u001b[0m             \u001b[0mparse_int\u001b[0m \u001b[0;32mis\u001b[0m \u001b[0;32mNone\u001b[0m \u001b[0;32mand\u001b[0m \u001b[0mparse_float\u001b[0m \u001b[0;32mis\u001b[0m \u001b[0;32mNone\u001b[0m \u001b[0;32mand\u001b[0m\u001b[0;34m\u001b[0m\u001b[0m\n\u001b[1;32m    347\u001b[0m             parse_constant is None and object_pairs_hook is None and not kw):\n\u001b[0;32m--> 348\u001b[0;31m         \u001b[0;32mreturn\u001b[0m \u001b[0m_default_decoder\u001b[0m\u001b[0;34m.\u001b[0m\u001b[0mdecode\u001b[0m\u001b[0;34m(\u001b[0m\u001b[0ms\u001b[0m\u001b[0;34m)\u001b[0m\u001b[0;34m\u001b[0m\u001b[0m\n\u001b[0m\u001b[1;32m    349\u001b[0m     \u001b[0;32mif\u001b[0m \u001b[0mcls\u001b[0m \u001b[0;32mis\u001b[0m \u001b[0;32mNone\u001b[0m\u001b[0;34m:\u001b[0m\u001b[0;34m\u001b[0m\u001b[0m\n\u001b[1;32m    350\u001b[0m         \u001b[0mcls\u001b[0m \u001b[0;34m=\u001b[0m \u001b[0mJSONDecoder\u001b[0m\u001b[0;34m\u001b[0m\u001b[0m\n",
      "\u001b[0;32m/Library/Frameworks/Python.framework/Versions/3.7/lib/python3.7/json/decoder.py\u001b[0m in \u001b[0;36mdecode\u001b[0;34m(self, s, _w)\u001b[0m\n\u001b[1;32m    335\u001b[0m \u001b[0;34m\u001b[0m\u001b[0m\n\u001b[1;32m    336\u001b[0m         \"\"\"\n\u001b[0;32m--> 337\u001b[0;31m         \u001b[0mobj\u001b[0m\u001b[0;34m,\u001b[0m \u001b[0mend\u001b[0m \u001b[0;34m=\u001b[0m \u001b[0mself\u001b[0m\u001b[0;34m.\u001b[0m\u001b[0mraw_decode\u001b[0m\u001b[0;34m(\u001b[0m\u001b[0ms\u001b[0m\u001b[0;34m,\u001b[0m \u001b[0midx\u001b[0m\u001b[0;34m=\u001b[0m\u001b[0m_w\u001b[0m\u001b[0;34m(\u001b[0m\u001b[0ms\u001b[0m\u001b[0;34m,\u001b[0m \u001b[0;36m0\u001b[0m\u001b[0;34m)\u001b[0m\u001b[0;34m.\u001b[0m\u001b[0mend\u001b[0m\u001b[0;34m(\u001b[0m\u001b[0;34m)\u001b[0m\u001b[0;34m)\u001b[0m\u001b[0;34m\u001b[0m\u001b[0m\n\u001b[0m\u001b[1;32m    338\u001b[0m         \u001b[0mend\u001b[0m \u001b[0;34m=\u001b[0m \u001b[0m_w\u001b[0m\u001b[0;34m(\u001b[0m\u001b[0ms\u001b[0m\u001b[0;34m,\u001b[0m \u001b[0mend\u001b[0m\u001b[0;34m)\u001b[0m\u001b[0;34m.\u001b[0m\u001b[0mend\u001b[0m\u001b[0;34m(\u001b[0m\u001b[0;34m)\u001b[0m\u001b[0;34m\u001b[0m\u001b[0m\n\u001b[1;32m    339\u001b[0m         \u001b[0;32mif\u001b[0m \u001b[0mend\u001b[0m \u001b[0;34m!=\u001b[0m \u001b[0mlen\u001b[0m\u001b[0;34m(\u001b[0m\u001b[0ms\u001b[0m\u001b[0;34m)\u001b[0m\u001b[0;34m:\u001b[0m\u001b[0;34m\u001b[0m\u001b[0m\n",
      "\u001b[0;32m/Library/Frameworks/Python.framework/Versions/3.7/lib/python3.7/json/decoder.py\u001b[0m in \u001b[0;36mraw_decode\u001b[0;34m(self, s, idx)\u001b[0m\n\u001b[1;32m    353\u001b[0m             \u001b[0mobj\u001b[0m\u001b[0;34m,\u001b[0m \u001b[0mend\u001b[0m \u001b[0;34m=\u001b[0m \u001b[0mself\u001b[0m\u001b[0;34m.\u001b[0m\u001b[0mscan_once\u001b[0m\u001b[0;34m(\u001b[0m\u001b[0ms\u001b[0m\u001b[0;34m,\u001b[0m \u001b[0midx\u001b[0m\u001b[0;34m)\u001b[0m\u001b[0;34m\u001b[0m\u001b[0m\n\u001b[1;32m    354\u001b[0m         \u001b[0;32mexcept\u001b[0m \u001b[0mStopIteration\u001b[0m \u001b[0;32mas\u001b[0m \u001b[0merr\u001b[0m\u001b[0;34m:\u001b[0m\u001b[0;34m\u001b[0m\u001b[0m\n\u001b[0;32m--> 355\u001b[0;31m             \u001b[0;32mraise\u001b[0m \u001b[0mJSONDecodeError\u001b[0m\u001b[0;34m(\u001b[0m\u001b[0;34m\"Expecting value\"\u001b[0m\u001b[0;34m,\u001b[0m \u001b[0ms\u001b[0m\u001b[0;34m,\u001b[0m \u001b[0merr\u001b[0m\u001b[0;34m.\u001b[0m\u001b[0mvalue\u001b[0m\u001b[0;34m)\u001b[0m \u001b[0;32mfrom\u001b[0m \u001b[0;32mNone\u001b[0m\u001b[0;34m\u001b[0m\u001b[0m\n\u001b[0m\u001b[1;32m    356\u001b[0m         \u001b[0;32mreturn\u001b[0m \u001b[0mobj\u001b[0m\u001b[0;34m,\u001b[0m \u001b[0mend\u001b[0m\u001b[0;34m\u001b[0m\u001b[0m\n",
      "\u001b[0;31mJSONDecodeError\u001b[0m: Expecting value: line 1 column 1 (char 0)"
     ]
    }
   ],
   "source": [
    "import gensim.downloader as api\n",
    "#%mkdir -p /Users/kieranagterberg/gensim-data/information.json\n",
    "\n",
    "glove = api.load(\"glove-wiki-gigaword-50\")\n",
    "num_words, num_dims = glove.vectors.shape\n",
    "print(f\"Downloaded {num_words} word embeddings of dimension {num_dims}.\")"
   ]
  },
  {
   "cell_type": "markdown",
   "metadata": {
    "id": "x0mViYtFnwLR"
   },
   "source": [
    "Before proceeding, you should familiarize yourself with the `similarity` method, which computes the cosine similarity between two words. You will need this method to implement `weat_association_score`. Some examples are given below.\n",
    "\n",
    "> Can you spot the gender bias between occupations in the examples below?"
   ]
  },
  {
   "cell_type": "code",
   "execution_count": 39,
   "metadata": {
    "colab": {
     "base_uri": "https://localhost:8080/"
    },
    "collapsed": true,
    "id": "SuRrncLtn5Tl",
    "outputId": "1affaaaf-8b61-456f-fa80-94bd9d483d1e"
   },
   "outputs": [
    {
     "ename": "NameError",
     "evalue": "name 'glove' is not defined",
     "output_type": "error",
     "traceback": [
      "\u001b[0;31m---------------------------------------------------------------------------\u001b[0m",
      "\u001b[0;31mNameError\u001b[0m                                 Traceback (most recent call last)",
      "\u001b[0;32m<ipython-input-39-d77cf6d38e2a>\u001b[0m in \u001b[0;36m<module>\u001b[0;34m\u001b[0m\n\u001b[0;32m----> 1\u001b[0;31m \u001b[0mprint\u001b[0m\u001b[0;34m(\u001b[0m\u001b[0mglove\u001b[0m\u001b[0;34m.\u001b[0m\u001b[0msimilarity\u001b[0m\u001b[0;34m(\u001b[0m\u001b[0;34m\"man\"\u001b[0m\u001b[0;34m,\u001b[0m \u001b[0;34m\"scientist\"\u001b[0m\u001b[0;34m)\u001b[0m\u001b[0;34m)\u001b[0m\u001b[0;34m\u001b[0m\u001b[0m\n\u001b[0m\u001b[1;32m      2\u001b[0m \u001b[0mprint\u001b[0m\u001b[0;34m(\u001b[0m\u001b[0mglove\u001b[0m\u001b[0;34m.\u001b[0m\u001b[0msimilarity\u001b[0m\u001b[0;34m(\u001b[0m\u001b[0;34m\"man\"\u001b[0m\u001b[0;34m,\u001b[0m \u001b[0;34m\"nurse\"\u001b[0m\u001b[0;34m)\u001b[0m\u001b[0;34m)\u001b[0m\u001b[0;34m\u001b[0m\u001b[0m\n\u001b[1;32m      3\u001b[0m \u001b[0mprint\u001b[0m\u001b[0;34m(\u001b[0m\u001b[0mglove\u001b[0m\u001b[0;34m.\u001b[0m\u001b[0msimilarity\u001b[0m\u001b[0;34m(\u001b[0m\u001b[0;34m\"woman\"\u001b[0m\u001b[0;34m,\u001b[0m \u001b[0;34m\"scientist\"\u001b[0m\u001b[0;34m)\u001b[0m\u001b[0;34m)\u001b[0m\u001b[0;34m\u001b[0m\u001b[0m\n\u001b[1;32m      4\u001b[0m \u001b[0mprint\u001b[0m\u001b[0;34m(\u001b[0m\u001b[0mglove\u001b[0m\u001b[0;34m.\u001b[0m\u001b[0msimilarity\u001b[0m\u001b[0;34m(\u001b[0m\u001b[0;34m\"woman\"\u001b[0m\u001b[0;34m,\u001b[0m \u001b[0;34m\"nurse\"\u001b[0m\u001b[0;34m)\u001b[0m\u001b[0;34m)\u001b[0m\u001b[0;34m\u001b[0m\u001b[0m\n",
      "\u001b[0;31mNameError\u001b[0m: name 'glove' is not defined"
     ]
    }
   ],
   "source": [
    "print(glove.similarity(\"man\", \"scientist\"))\n",
    "print(glove.similarity(\"man\", \"nurse\"))\n",
    "print(glove.similarity(\"woman\", \"scientist\"))\n",
    "print(glove.similarity(\"woman\", \"nurse\"))"
   ]
  },
  {
   "cell_type": "markdown",
   "metadata": {
    "id": "WlJS8luQoQV5"
   },
   "source": [
    "Below, we define our target words (`occupations`) and attribute words (`A` and `B`). Our target words consist of *occupations*, and our attribute words are *gendered*. We will use the WEAT test to determine if the word embeddings contain gender biases for certain occupations."
   ]
  },
  {
   "cell_type": "code",
   "execution_count": null,
   "metadata": {
    "id": "H1OEkmNiX-AH"
   },
   "outputs": [],
   "source": [
    "# Target words (occupations)\n",
    "occupations = [\"programmer\", \"engineer\", \"scientist\", \"nurse\", \"teacher\", \"librarian\"]\n",
    "# Two sets of gendered attribute words, A and B\n",
    "A = [\"man\", \"male\", \"he\", \"boyish\"]\n",
    "B = [\"woman\", \"female\", \"she\", \"girlish\"]"
   ]
  },
  {
   "cell_type": "markdown",
   "metadata": {
    "id": "lvTau4w1s2es"
   },
   "source": [
    "- [ ] __TODO__: Implement the following function, `weat_association_score` which computes the association of a word _w_ with the attribute:\n",
    "\n",
    "$$s(w, A, B) = \\text{mean}_{a\\in A} \\cos(w, a) - \\text{mean}_{b\\in B} \\cos(w,b)$$"
   ]
  },
  {
   "cell_type": "code",
   "execution_count": null,
   "metadata": {
    "id": "FH7KHVgPYyl5"
   },
   "outputs": [],
   "source": [
    "def weat_association_score(w, A, B, glove):\n",
    "    \"\"\"Given a target word w, the set of attribute words A and B,\n",
    "    and the GloVe embeddings, returns the association score s(w, A, B).\n",
    "    \"\"\"\n",
    "    ###########################   YOUR CODE HERE  ##############################\n",
    "    A_average = []\n",
    "    B_average = []\n",
    "    #A loop\n",
    "    for a in A:\n",
    "      A_average.append(glove.similarity(w, a))\n",
    "    for b in B:\n",
    "      B_average.append(glove.similarity(w,b))\n",
    "    return np.mean(A_average) - np.mean(B_average)\n",
    "    ############################################################################"
   ]
  },
  {
   "cell_type": "markdown",
   "metadata": {
    "id": "5VM9-DCewvsJ"
   },
   "source": [
    "Use the following code to check your implementation:"
   ]
  },
  {
   "cell_type": "code",
   "execution_count": null,
   "metadata": {
    "colab": {
     "base_uri": "https://localhost:8080/"
    },
    "id": "QlN4D0JRwgpu",
    "outputId": "d66d5e82-5ba2-40e8-c172-cc8ca0a5a5e1"
   },
   "outputs": [],
   "source": [
    "np.isclose(weat_association_score(\"programmer\", A, B, glove), 0.019615129)"
   ]
  },
  {
   "cell_type": "markdown",
   "metadata": {
    "id": "Anbhmfiy_qiU"
   },
   "source": [
    "Now, compute the WEAT association score for each element of `occupations` and the attribute sets A and B. Include the printed out association scores in your pdf."
   ]
  },
  {
   "cell_type": "code",
   "execution_count": null,
   "metadata": {
    "colab": {
     "base_uri": "https://localhost:8080/"
    },
    "id": "4ld48gnL_ySM",
    "outputId": "9f22747f-3b06-44cf-b3ad-1ba1b80737b7"
   },
   "outputs": [],
   "source": [
    "# TODO: Print out the weat association score for each occupation\n",
    "###########################   YOUR CODE HERE  ##############################\n",
    "for occupation in occupations:\n",
    "  \n",
    "  print(occupation + \": \" + str(weat_association_score(occupation, A, B, glove)))\n",
    "############################################################################"
   ]
  },
  {
   "cell_type": "code",
   "execution_count": 44,
   "metadata": {},
   "outputs": [
    {
     "data": {
      "image/png": "[encoded data removed]",
      "text/plain": [
       "<IPython.core.display.Image object>"
      ]
     },
     "execution_count": 44,
     "metadata": {},
     "output_type": "execute_result"
    }
   ],
   "source": [
    "from IPython.display import Image\n",
    "Image(\"/Users/kieranagterberg/Desktop/CSC413 4.1 A1.png\")"
   ]
  },
  {
   "cell_type": "markdown",
   "metadata": {
    "id": "SHf4e3Aextcz"
   },
   "source": [
    " ## 4.2 Reasons for bias in word embeddings [0pt]\n",
    "\n",
    "Based on these WEAT association scores, do the pretrained word embeddings associate certain occuptations with one gender more than another? What might cause word embedding models to learn certain stereotypes and prejudices? How might this be a problem in downstream applications?"
   ]
  },
  {
   "cell_type": "markdown",
   "metadata": {
    "id": "rDaumHBBSXm7"
   },
   "source": [
    "4.2 Answer: \n",
    "**\\*\\*TODO: Write Part 4.2 answer here\\*\\***"
   ]
  },
  {
   "cell_type": "markdown",
   "metadata": {
    "id": "KzFpg3AFRAp0"
   },
   "source": [
    "## 4.3 Analyzing WEAT [1pt]\n",
    "\n",
    "   While WEAT makes intuitive sense by asserting that closeness in the embedding space indicates greater similarity, more recent work ([Ethayarajh et al. [2019]](https://aclanthology.org/P19-1166.pdf)) has further analyzed the mathematical assertions and found some flaws with this method. Analyzing edge cases is a good way to find logical inconsistencies with any algorithm, and WEAT in particular can behave strangely when A and B contain just one word each. \n",
    "    \n",
    "\n",
    "      "
   ]
  },
  {
   "cell_type": "markdown",
   "metadata": {
    "id": "NFvAf7jXWhrS"
   },
   "source": [
    "### 4.3.1 1-word subsets [0.5 pts]\n",
    "Find 1-word subsets of the original A and B that reverse the sign of the association score for at least some of the occupations"
   ]
  },
  {
   "cell_type": "code",
   "execution_count": null,
   "metadata": {
    "colab": {
     "base_uri": "https://localhost:8080/"
    },
    "id": "mEuECz_6PEMQ",
    "outputId": "2c379680-2dfe-4f6f-fa37-1d59d5828cfc"
   },
   "outputs": [],
   "source": [
    "## Original sets provided here for convenience - try commenting out all but one word from each set\n",
    "# Two sets of gendered attribute words, C and D\n",
    "C = [#\"man\",\n",
    "     \"male\",\n",
    "     #\"he\",\n",
    "     #\"boyish\"\n",
    "     ]\n",
    "D = [\"woman\",\n",
    "     #\"female\",\n",
    "     #\"she\",\n",
    "     #\"girlish\"\n",
    "     ]\n",
    "\n",
    "# TODO: Print out the weat association score for each word in occupations, with regards to C and D\n",
    "###########################   YOUR CODE HERE  ##############################\n",
    "for occupation in occupations:\n",
    "  \n",
    "  print(occupation + \": \" + str(weat_association_score(occupation, C, D, glove)))\n",
    "\n",
    "#Note that the the WEAT scores for programmer, engineer, scientist are all reversed sign\n",
    "############################################################################"
   ]
  },
  {
   "cell_type": "code",
   "execution_count": 45,
   "metadata": {},
   "outputs": [
    {
     "data": {
      "image/png": "[encoded data removed]",
      "text/plain": [
       "<IPython.core.display.Image object>"
      ]
     },
     "execution_count": 45,
     "metadata": {},
     "output_type": "execute_result"
    }
   ],
   "source": [
    "from IPython.display import Image\n",
    "Image(\"/Users/kieranagterberg/Desktop/CSC413 4.3.1 A1.png\")"
   ]
  },
  {
   "cell_type": "markdown",
   "metadata": {
    "id": "SStZzhgNVcYA"
   },
   "source": [
    "### 4.3.2  How word frequency affects embedding similarity [0.5 pts]\n",
    "\n",
    "Consider the fact that the squared norm of a word embedding is linear in the log probability of the word in the training corpus. In other words, the more common a word is in the training corpus, the larger the norm of its word embedding. (See handout for more thorough description)\n",
    "    \n",
    "Briefly explain how this fact might contribute to the results from the previous section when using different attribute words. Provide your answers in no more than three sentences.\n",
    "\n",
    "*Hint 2: The paper cited above is a great resource if you are stuck.*"
   ]
  },
  {
   "cell_type": "markdown",
   "metadata": {
    "id": "0J9-uOZgRQCL"
   },
   "source": [
    "4.3 Answer: \n",
    "**\\*\\*TODO: Write Part 4.3 answer here\\*\\***\n",
    "\n",
    "If we have a list of masculine words, A, and feminine words B, we can calculate the average WEAT score with some word w. If we pick the most frequent word from A, a, it's norm is large and so cos(w,a) is smaller and vice versa for an infrequent feminine word b. Hence, by picking an outlier of the set of A and B, we can change cos(w,a) and cos(w,b) to be drastically smaller and larger than the average, respectively, causing a potential switch in the sign of cos(w,a) - cos(w,b), like what happened in 3.2.1."
   ]
  },
  {
   "cell_type": "markdown",
   "metadata": {
    "id": "pzh6MIbQAyBi"
   },
   "source": [
    "### 4.3.3  Relative association between two sets of target words [0 pts]\n",
    "\n",
    "In the original WEAT paper, the authors do not examine the association of individual words with attributes, but rather compare the relative association of two sets of target words. For example, are insect words more associated with positive attributes or negative attributes than flower words.\n",
    "    \n",
    "Formally, let $X$ and $Y$ be two sets of target words of equal size. The WEAT test statistic is given by:\n",
    "$$ s(X, Y, A, B) = \\sum_{x\\in X} s(x, A, B) - \\sum_{y \\in Y} s(y, A, B) $$\n",
    "    \n",
    "Will the same technique from the previous section work to manipulate this test statistic as well? Provide your answer in no more than 3 sentences."
   ]
  },
  {
   "cell_type": "markdown",
   "metadata": {
    "id": "88rIqovtLJt9"
   },
   "source": [
    "4.3.3 Answer: **TODO: Write 4.3.3 answer here**"
   ]
  },
  {
   "cell_type": "markdown",
   "metadata": {
    "id": "-DVGkTS3CPqi"
   },
   "source": [
    "# What you have to submit\n",
    "\n",
    "Refer to the handout for the checklist"
   ]
  },
  {
   "cell_type": "code",
   "execution_count": null,
   "metadata": {
    "id": "jcVh0VMgFGsW"
   },
   "outputs": [],
   "source": []
  }
 ],
 "metadata": {
  "colab": {
   "collapsed_sections": [],
   "name": "using this Copy of a1-code.ipynb",
   "provenance": [],
   "toc_visible": true
  },
  "kernelspec": {
   "display_name": "Python 3",
   "language": "python",
   "name": "python3"
  },
  "language_info": {
   "codemirror_mode": {
    "name": "ipython",
    "version": 3
   },
   "file_extension": ".py",
   "mimetype": "text/x-python",
   "name": "python",
   "nbconvert_exporter": "python",
   "pygments_lexer": "ipython3",
   "version": "3.7.0"
  }
 },
 "nbformat": 4,
 "nbformat_minor": 1
}
